{
 "cells": [
  {
   "cell_type": "code",
   "execution_count": 4,
   "id": "96d6e91e-889e-4015-8064-219f37a46b6a",
   "metadata": {
    "colab": {
     "base_uri": "https://localhost:8080/",
     "height": 459
    },
    "id": "96d6e91e-889e-4015-8064-219f37a46b6a",
    "outputId": "9677c380-7135-48e6-fccc-43691e7ea7a0"
   },
   "outputs": [
    {
     "data": {
      "text/html": [
       "<div>\n",
       "<style scoped>\n",
       "    .dataframe tbody tr th:only-of-type {\n",
       "        vertical-align: middle;\n",
       "    }\n",
       "\n",
       "    .dataframe tbody tr th {\n",
       "        vertical-align: top;\n",
       "    }\n",
       "\n",
       "    .dataframe thead th {\n",
       "        text-align: right;\n",
       "    }\n",
       "</style>\n",
       "<table border=\"1\" class=\"dataframe\">\n",
       "  <thead>\n",
       "    <tr style=\"text-align: right;\">\n",
       "      <th></th>\n",
       "      <th>Title</th>\n",
       "      <th>Movie Info</th>\n",
       "      <th>Year</th>\n",
       "      <th>Distributor</th>\n",
       "      <th>Budget (in $)</th>\n",
       "      <th>Domestic Opening (in $)</th>\n",
       "      <th>Domestic Sales (in $)</th>\n",
       "      <th>International Sales (in $)</th>\n",
       "      <th>World Wide Sales (in $)</th>\n",
       "      <th>Release Date</th>\n",
       "      <th>Genre</th>\n",
       "      <th>Running Time</th>\n",
       "      <th>License</th>\n",
       "    </tr>\n",
       "  </thead>\n",
       "  <tbody>\n",
       "    <tr>\n",
       "      <th>0</th>\n",
       "      <td>Avatar</td>\n",
       "      <td>A paraplegic Marine dispatched to the moon Pan...</td>\n",
       "      <td>2009</td>\n",
       "      <td>Twentieth Century Fox</td>\n",
       "      <td>237000000</td>\n",
       "      <td>77025481</td>\n",
       "      <td>785221649</td>\n",
       "      <td>2138484377</td>\n",
       "      <td>2923706026</td>\n",
       "      <td>16-Dec-09</td>\n",
       "      <td>['Action', 'Adventure', 'Fantasy', 'Sci-Fi']</td>\n",
       "      <td>2 hr 42 min</td>\n",
       "      <td>PG-13</td>\n",
       "    </tr>\n",
       "    <tr>\n",
       "      <th>1</th>\n",
       "      <td>Avengers: Endgame</td>\n",
       "      <td>After the devastating events of Avengers: Infi...</td>\n",
       "      <td>2019</td>\n",
       "      <td>Walt Disney Studios Motion Pictures</td>\n",
       "      <td>356000000</td>\n",
       "      <td>357115007</td>\n",
       "      <td>858373000</td>\n",
       "      <td>1941066100</td>\n",
       "      <td>2799439100</td>\n",
       "      <td>24-Apr-19</td>\n",
       "      <td>['Action', 'Adventure', 'Drama', 'Sci-Fi']</td>\n",
       "      <td>3 hr 1 min</td>\n",
       "      <td>PG-13</td>\n",
       "    </tr>\n",
       "    <tr>\n",
       "      <th>2</th>\n",
       "      <td>Avatar: The Way of Water</td>\n",
       "      <td>Jake Sully lives with his newfound family form...</td>\n",
       "      <td>2022</td>\n",
       "      <td>20th Century Studios</td>\n",
       "      <td>December 14 2022 (EMEA APAC)</td>\n",
       "      <td>134100226</td>\n",
       "      <td>684075767</td>\n",
       "      <td>1636174514</td>\n",
       "      <td>2320250281</td>\n",
       "      <td>24-Apr-19</td>\n",
       "      <td>['Action', 'Adventure', 'Drama', 'Sci-Fi']</td>\n",
       "      <td>3 hr 1 min</td>\n",
       "      <td>PG-13</td>\n",
       "    </tr>\n",
       "    <tr>\n",
       "      <th>3</th>\n",
       "      <td>Titanic</td>\n",
       "      <td>A seventeen-year-old aristocrat falls in love ...</td>\n",
       "      <td>1997</td>\n",
       "      <td>Paramount Pictures</td>\n",
       "      <td>200000000</td>\n",
       "      <td>28638131</td>\n",
       "      <td>674292608</td>\n",
       "      <td>1590450697</td>\n",
       "      <td>2264743305</td>\n",
       "      <td>19-Dec-97</td>\n",
       "      <td>['Drama', 'Romance']</td>\n",
       "      <td>3 hr 14 min</td>\n",
       "      <td>PG-13</td>\n",
       "    </tr>\n",
       "    <tr>\n",
       "      <th>4</th>\n",
       "      <td>Star Wars: Episode VII - The Force Awakens</td>\n",
       "      <td>As a new threat to the galaxy rises, Rey, a de...</td>\n",
       "      <td>2015</td>\n",
       "      <td>Walt Disney Studios Motion Pictures</td>\n",
       "      <td>245000000</td>\n",
       "      <td>247966675</td>\n",
       "      <td>936662225</td>\n",
       "      <td>1134647993</td>\n",
       "      <td>2071310218</td>\n",
       "      <td>16-Dec-15</td>\n",
       "      <td>['Action', 'Adventure', 'Sci-Fi']</td>\n",
       "      <td>2 hr 18 min</td>\n",
       "      <td>PG-13</td>\n",
       "    </tr>\n",
       "  </tbody>\n",
       "</table>\n",
       "</div>"
      ],
      "text/plain": [
       "                                        Title  \\\n",
       "0                                      Avatar   \n",
       "1                           Avengers: Endgame   \n",
       "2                    Avatar: The Way of Water   \n",
       "3                                     Titanic   \n",
       "4  Star Wars: Episode VII - The Force Awakens   \n",
       "\n",
       "                                          Movie Info  Year  \\\n",
       "0  A paraplegic Marine dispatched to the moon Pan...  2009   \n",
       "1  After the devastating events of Avengers: Infi...  2019   \n",
       "2  Jake Sully lives with his newfound family form...  2022   \n",
       "3  A seventeen-year-old aristocrat falls in love ...  1997   \n",
       "4  As a new threat to the galaxy rises, Rey, a de...  2015   \n",
       "\n",
       "                           Distributor                 Budget (in $)  \\\n",
       "0                Twentieth Century Fox                     237000000   \n",
       "1  Walt Disney Studios Motion Pictures                     356000000   \n",
       "2                 20th Century Studios  December 14 2022 (EMEA APAC)   \n",
       "3                   Paramount Pictures                     200000000   \n",
       "4  Walt Disney Studios Motion Pictures                     245000000   \n",
       "\n",
       "  Domestic Opening (in $)  Domestic Sales (in $)  International Sales (in $)  \\\n",
       "0                77025481              785221649                  2138484377   \n",
       "1               357115007              858373000                  1941066100   \n",
       "2               134100226              684075767                  1636174514   \n",
       "3                28638131              674292608                  1590450697   \n",
       "4               247966675              936662225                  1134647993   \n",
       "\n",
       "   World Wide Sales (in $) Release Date  \\\n",
       "0               2923706026    16-Dec-09   \n",
       "1               2799439100    24-Apr-19   \n",
       "2               2320250281    24-Apr-19   \n",
       "3               2264743305    19-Dec-97   \n",
       "4               2071310218    16-Dec-15   \n",
       "\n",
       "                                          Genre Running Time License  \n",
       "0  ['Action', 'Adventure', 'Fantasy', 'Sci-Fi']  2 hr 42 min   PG-13  \n",
       "1    ['Action', 'Adventure', 'Drama', 'Sci-Fi']   3 hr 1 min   PG-13  \n",
       "2    ['Action', 'Adventure', 'Drama', 'Sci-Fi']   3 hr 1 min   PG-13  \n",
       "3                          ['Drama', 'Romance']  3 hr 14 min   PG-13  \n",
       "4             ['Action', 'Adventure', 'Sci-Fi']  2 hr 18 min   PG-13  "
      ]
     },
     "execution_count": 4,
     "metadata": {},
     "output_type": "execute_result"
    }
   ],
   "source": [
    "import pandas as pd\n",
    "\n",
    "df = pd.read_csv(\"Highest Holywood Grossing Movies.csv\", index_col=\"Unnamed: 0\")\n",
    "df.head()"
   ]
  },
  {
   "cell_type": "markdown",
   "id": "9d3b80a3-2647-4490-9968-1a1bd27a45c5",
   "metadata": {},
   "source": [
    "Перед нами датафрейм, содержащий разностороннюю информацию о 1000 самых кассовых фильмов всех времен. Нашей целью является комплексный анализ связей различных характеристик картины с его финальными сборами, а также выявление основных тенденций на поприще коммерчески успешных кинофильмов."
   ]
  },
  {
   "cell_type": "code",
   "execution_count": 6,
   "id": "c553046e-d936-42c6-bec9-5e8f02b126e5",
   "metadata": {
    "colab": {
     "base_uri": "https://localhost:8080/"
    },
    "id": "c553046e-d936-42c6-bec9-5e8f02b126e5",
    "outputId": "4a8c2e47-22ce-4dde-9530-140dd1c0542a"
   },
   "outputs": [
    {
     "data": {
      "text/plain": [
       "(1000, 13)"
      ]
     },
     "execution_count": 6,
     "metadata": {},
     "output_type": "execute_result"
    }
   ],
   "source": [
    "df.shape"
   ]
  },
  {
   "cell_type": "markdown",
   "id": "33e82e1c-a66c-4eb3-94c5-322a544193de",
   "metadata": {
    "id": "33e82e1c-a66c-4eb3-94c5-322a544193de"
   },
   "source": [
    "В датасете 13 столбцов и 1000 строк\n"
   ]
  },
  {
   "cell_type": "code",
   "execution_count": 8,
   "id": "a52d2a02-6a61-477a-99b7-24d0ec62f6bf",
   "metadata": {
    "colab": {
     "base_uri": "https://localhost:8080/"
    },
    "id": "a52d2a02-6a61-477a-99b7-24d0ec62f6bf",
    "outputId": "26ddf890-9a8b-45e3-f9e9-509f291b81c4"
   },
   "outputs": [
    {
     "name": "stdout",
     "output_type": "stream",
     "text": [
      "<class 'pandas.core.frame.DataFrame'>\n",
      "Index: 1000 entries, 0 to 999\n",
      "Data columns (total 13 columns):\n",
      " #   Column                      Non-Null Count  Dtype \n",
      "---  ------                      --------------  ----- \n",
      " 0   Title                       1000 non-null   object\n",
      " 1   Movie Info                  1000 non-null   object\n",
      " 2   Year                        1000 non-null   int64 \n",
      " 3   Distributor                 999 non-null    object\n",
      " 4   Budget (in $)               1000 non-null   object\n",
      " 5   Domestic Opening (in $)     1000 non-null   object\n",
      " 6   Domestic Sales (in $)       1000 non-null   int64 \n",
      " 7   International Sales (in $)  1000 non-null   int64 \n",
      " 8   World Wide Sales (in $)     1000 non-null   int64 \n",
      " 9   Release Date                1000 non-null   object\n",
      " 10  Genre                       1000 non-null   object\n",
      " 11  Running Time                1000 non-null   object\n",
      " 12  License                     943 non-null    object\n",
      "dtypes: int64(4), object(9)\n",
      "memory usage: 109.4+ KB\n"
     ]
    }
   ],
   "source": [
    "df.info()"
   ]
  },
  {
   "cell_type": "markdown",
   "id": "edb9c9de-88df-4b47-81a5-bc6a2d292627",
   "metadata": {
    "id": "edb9c9de-88df-4b47-81a5-bc6a2d292627",
    "outputId": "15115678-71df-4459-c37d-4e636474e802"
   },
   "source": [
    "Количественные признаки:\n",
    "\n",
    "1) Year - год выхода фильма, принимает дискретные значения\n",
    "2) Budget - производственный бюджет картины в долларах, только целые значения\n",
    "3) Domestic Sales - сборы фильма в домашнем прокате в долларах, округленные значения\n",
    "4) International Sales - сборы фильма за рубежом в долларах, целые значения\n",
    "5) World Wide Sales - сборы фильма в мировом прокате (домашний + зарубежный) в долларах, округленные значения\n",
    "6) Domestic Opening - сборы фильма в открывающую неделю в долларах, дискретные значения\n",
    "7) Running Time - хронометраж фильма в часах и минутах\n",
    "\n",
    "Категориальные признаки:\n",
    "\n",
    "1) Title - оригинальное название фильма\n",
    "2) Distributor - прокатчик фильма\n",
    "3) Movie Info - синопсис фильма\n",
    "4) Genre - список жанров, к которым относится фильм\n",
    "5) Release Date - дата выхода\n",
    "6) License - возрастной рейтинг, определяющий каким возрастным категориям разрешено посещать фильм\n"
   ]
  },
  {
   "cell_type": "code",
   "execution_count": 10,
   "id": "945f6f66-0de0-4fcc-8da2-331a34f0867f",
   "metadata": {
    "colab": {
     "base_uri": "https://localhost:8080/"
    },
    "id": "945f6f66-0de0-4fcc-8da2-331a34f0867f",
    "outputId": "ea3dc7f7-c4c4-4715-dea8-26996ae074d0"
   },
   "outputs": [
    {
     "data": {
      "text/plain": [
       "(1, 57)"
      ]
     },
     "execution_count": 10,
     "metadata": {},
     "output_type": "execute_result"
    }
   ],
   "source": [
    "df[\"Distributor\"].isna().sum(), df[\"License\"].isna().sum()"
   ]
  },
  {
   "cell_type": "markdown",
   "id": "2c3f8cd4-61aa-4aa1-baa6-fd427d1b3e4f",
   "metadata": {
    "id": "2c3f8cd4-61aa-4aa1-baa6-fd427d1b3e4f"
   },
   "source": [
    "Только в 2 колонках встретились пропуски (2 колонка данных из df.info()):\n",
    "\n",
    "Подсчитаем их с помощью isna().sum():\n",
    "\n",
    "1) Distributor (1 пропуск)\n",
    "2) License (57 пропусков)\n",
    "\n",
    "Заметим, что пропуски возникли в колонках с категориальными признаками, поэтому их необходимо заменить на моду (среднего у таких признаков нет)"
   ]
  },
  {
   "cell_type": "code",
   "execution_count": 12,
   "id": "51c8571d-8222-496e-bde4-0ab0cf52670c",
   "metadata": {
    "colab": {
     "base_uri": "https://localhost:8080/"
    },
    "id": "51c8571d-8222-496e-bde4-0ab0cf52670c",
    "outputId": "88ee28c1-4161-4d8a-cff2-5d343fdcc8a0"
   },
   "outputs": [
    {
     "data": {
      "text/plain": [
       "('Warner Bros.', 'PG-13')"
      ]
     },
     "execution_count": 12,
     "metadata": {},
     "output_type": "execute_result"
    }
   ],
   "source": [
    "mode_dis = df[\"Distributor\"].mode()[0]\n",
    "mode_lic = df[\"License\"].mode()[0]\n",
    "mode_dis, mode_lic"
   ]
  },
  {
   "cell_type": "code",
   "execution_count": 13,
   "id": "8996e2ac-6b58-4857-9d1c-9951e4ea1910",
   "metadata": {
    "colab": {
     "base_uri": "https://localhost:8080/"
    },
    "id": "8996e2ac-6b58-4857-9d1c-9951e4ea1910",
    "outputId": "1bdfab5c-9d17-48d2-95f3-0ba264c72076"
   },
   "outputs": [
    {
     "data": {
      "text/plain": [
       "((166, 13), (486, 13))"
      ]
     },
     "execution_count": 13,
     "metadata": {},
     "output_type": "execute_result"
    }
   ],
   "source": [
    "df[df[\"Distributor\"] == mode_dis].shape, df[df[\"License\"] == mode_lic].shape"
   ]
  },
  {
   "cell_type": "code",
   "execution_count": 14,
   "id": "e7852bc9-2fc4-42e9-9270-ed76ad9cfc04",
   "metadata": {
    "colab": {
     "base_uri": "https://localhost:8080/"
    },
    "id": "e7852bc9-2fc4-42e9-9270-ed76ad9cfc04",
    "outputId": "e9e9f5ed-9764-443c-fdaa-e81c07066dd8"
   },
   "outputs": [
    {
     "name": "stdout",
     "output_type": "stream",
     "text": [
      "<class 'pandas.core.frame.DataFrame'>\n",
      "Index: 1000 entries, 0 to 999\n",
      "Data columns (total 15 columns):\n",
      " #   Column                      Non-Null Count  Dtype \n",
      "---  ------                      --------------  ----- \n",
      " 0   Title                       1000 non-null   object\n",
      " 1   Movie Info                  1000 non-null   object\n",
      " 2   Year                        1000 non-null   int64 \n",
      " 3   Distributor                 999 non-null    object\n",
      " 4   Budget (in $)               1000 non-null   object\n",
      " 5   Domestic Opening (in $)     1000 non-null   object\n",
      " 6   Domestic Sales (in $)       1000 non-null   int64 \n",
      " 7   International Sales (in $)  1000 non-null   int64 \n",
      " 8   World Wide Sales (in $)     1000 non-null   int64 \n",
      " 9   Release Date                1000 non-null   object\n",
      " 10  Genre                       1000 non-null   object\n",
      " 11  Running Time                1000 non-null   object\n",
      " 12  License                     943 non-null    object\n",
      " 13  fillna_Distributor          1000 non-null   object\n",
      " 14  fillna_License              1000 non-null   object\n",
      "dtypes: int64(4), object(11)\n",
      "memory usage: 125.0+ KB\n"
     ]
    }
   ],
   "source": [
    "df[\"fillna_Distributor\"] = df[\"Distributor\"].fillna(mode_dis)\n",
    "df[\"fillna_License\"] = df[\"License\"].fillna(mode_lic)\n",
    "df.info()"
   ]
  },
  {
   "cell_type": "markdown",
   "id": "5643e46f-a70e-442f-921b-97c15426559e",
   "metadata": {
    "id": "5643e46f-a70e-442f-921b-97c15426559e"
   },
   "source": [
    "Мы создали два столбца: \"fillna_Distributor\" и \"fillna_License\", теперь будем работать с ними, а не с соответствующими первоначальными столбцами"
   ]
  },
  {
   "cell_type": "code",
   "execution_count": 16,
   "id": "0ac64448-a9ff-4de8-bd6d-89deca4f16ad",
   "metadata": {
    "colab": {
     "base_uri": "https://localhost:8080/"
    },
    "id": "0ac64448-a9ff-4de8-bd6d-89deca4f16ad",
    "outputId": "104f18e8-145c-4d74-dd95-eb738a2573e4"
   },
   "outputs": [
    {
     "data": {
      "text/plain": [
       "0"
      ]
     },
     "execution_count": 16,
     "metadata": {},
     "output_type": "execute_result"
    }
   ],
   "source": [
    "num_duplicates = df.duplicated().sum()\n",
    "num_duplicates"
   ]
  },
  {
   "cell_type": "markdown",
   "id": "f98160d9-e1ce-4392-87d6-d3179175c471",
   "metadata": {
    "id": "f98160d9-e1ce-4392-87d6-d3179175c471"
   },
   "source": [
    "Проверили датасет на дубликаты (полностью идентичные строки), их нет"
   ]
  },
  {
   "cell_type": "code",
   "execution_count": 18,
   "id": "872f58cf-94f1-40ff-a46d-ad0120e253e5",
   "metadata": {
    "id": "872f58cf-94f1-40ff-a46d-ad0120e253e5"
   },
   "outputs": [],
   "source": [
    "df[\"Budget (in $)\"] = df[\"Budget (in $)\"].apply(lambda x: int(x) if x.isnumeric() == True else None)"
   ]
  },
  {
   "cell_type": "code",
   "execution_count": 19,
   "id": "6535a137-bc6a-4ba3-98e2-47c67cf032de",
   "metadata": {
    "id": "6535a137-bc6a-4ba3-98e2-47c67cf032de"
   },
   "outputs": [],
   "source": [
    "df['Domestic Opening (in $)'] = df[\"Domestic Opening (in $)\"].apply(lambda x: int(x) if x.isnumeric() == True else None)"
   ]
  },
  {
   "cell_type": "markdown",
   "id": "cd37f25a-6e25-4fc6-9484-14408b94b850",
   "metadata": {
    "id": "cd37f25a-6e25-4fc6-9484-14408b94b850"
   },
   "source": [
    "Чтобы работать с выбросами по признакам Domestic Opening и Budget, мы должны преобразовать их в числовые данные (int), однако у некоторых фильмов стояли данные, включавшие буквы, что затруднило их преобразование. Изучив возможные значения (часть из них была в числовом виде, часть начиналась с буквы, часть включала строку \"hr\"), мы составили вышенаписанные функции и неподходящие по формату ячейки заменили на None, а к нормальных применили функцию int()."
   ]
  },
  {
   "cell_type": "code",
   "execution_count": 21,
   "id": "fcf8fdc2-1454-4364-8a16-8867c02a7e81",
   "metadata": {
    "colab": {
     "base_uri": "https://localhost:8080/"
    },
    "id": "fcf8fdc2-1454-4364-8a16-8867c02a7e81",
    "outputId": "30330561-cd42-447f-eca5-3a069e15dd1f"
   },
   "outputs": [
    {
     "data": {
      "text/plain": [
       "(85000000.0, 97423917.19745223)"
      ]
     },
     "execution_count": 21,
     "metadata": {},
     "output_type": "execute_result"
    }
   ],
   "source": [
    "bud_median = df[\"Budget (in $)\"].median()\n",
    "bud_mean = df[\"Budget (in $)\"].mean()\n",
    "bud_median, bud_mean"
   ]
  },
  {
   "cell_type": "code",
   "execution_count": 22,
   "id": "101c75d6-8ef6-4591-9752-db6243fe1aba",
   "metadata": {
    "colab": {
     "base_uri": "https://localhost:8080/"
    },
    "id": "101c75d6-8ef6-4591-9752-db6243fe1aba",
    "outputId": "e2219501-1ae4-40c5-a1b9-9aac59f0ed52"
   },
   "outputs": [
    {
     "data": {
      "text/plain": [
       "(32790735.0, 42695054.83230453)"
      ]
     },
     "execution_count": 22,
     "metadata": {},
     "output_type": "execute_result"
    }
   ],
   "source": [
    "domopen_median = df[\"Domestic Opening (in $)\"].median()\n",
    "domopen_mean = df[\"Domestic Opening (in $)\"].mean()\n",
    "domopen_median, domopen_mean"
   ]
  },
  {
   "cell_type": "code",
   "execution_count": 23,
   "id": "011e2f19-3977-44e5-ad8a-084b76e48d08",
   "metadata": {
    "colab": {
     "base_uri": "https://localhost:8080/",
     "height": 465
    },
    "id": "011e2f19-3977-44e5-ad8a-084b76e48d08",
    "outputId": "eeddd5df-6b7b-47d4-9734-2ce7ffd5be45"
   },
   "outputs": [
    {
     "data": {
      "text/plain": [
       "<Axes: title={'center': 'Рис.1 Гистограмма распределения фильмов по бюджету'}, xlabel='Бюджет', ylabel='Частота'>"
      ]
     },
     "execution_count": 23,
     "metadata": {},
     "output_type": "execute_result"
    },
    {
     "data": {
      "image/png": "[encoded data removed]",
      "text/plain": [
       "<Figure size 640x480 with 1 Axes>"
      ]
     },
     "metadata": {},
     "output_type": "display_data"
    }
   ],
   "source": [
    "df[\"Budget (in $)\"].plot(kind=\"hist\", xlabel=\"Бюджет\", ylabel=\"Частота\", title = \"Рис.1 Гистограмма распределения фильмов по бюджету\", color=\"orange\")"
   ]
  },
  {
   "cell_type": "code",
   "execution_count": 24,
   "id": "85e1588b-43d6-4f45-97b6-7f6d1befd001",
   "metadata": {
    "colab": {
     "base_uri": "https://localhost:8080/",
     "height": 465
    },
    "id": "85e1588b-43d6-4f45-97b6-7f6d1befd001",
    "outputId": "ce049754-de30-4478-aeb6-df2c719f88ba"
   },
   "outputs": [
    {
     "data": {
      "text/plain": [
       "<Axes: title={'center': 'Рис.2 Гистограмма распределения фильмов по сборам за первый уикенд'}, xlabel='Сборы за премьерный уикенд', ylabel='Частота'>"
      ]
     },
     "execution_count": 24,
     "metadata": {},
     "output_type": "execute_result"
    },
    {
     "data": {
      "image/png": "[encoded data removed]",
      "text/plain": [
       "<Figure size 640x480 with 1 Axes>"
      ]
     },
     "metadata": {},
     "output_type": "display_data"
    }
   ],
   "source": [
    "df[\"Domestic Opening (in $)\"].plot(kind=\"hist\",  xlabel=\"Сборы за премьерный уикенд\", ylabel=\"Частота\", title = \"Рис.2 Гистограмма распределения фильмов по сборам за первый уикенд\", color=\"pink\")"
   ]
  },
  {
   "cell_type": "markdown",
   "id": "a575b8a7-d492-4102-acc6-922be729e634",
   "metadata": {
    "id": "a575b8a7-d492-4102-acc6-922be729e634"
   },
   "source": [
    "После применения функций некоторые ячейки приняли значение None, то есть образовались пропуски. Их можно заполнить медианой или средним. Для обеих колонок медиана меньше среднего, что говорит о правосторонней асимметрии (см.графики), а значит, о наличии экстремально высоких значений. Так как медиана ближе к моде, а значит, точнее отражает распределение значений, пропуски мы заполним именно ею."
   ]
  },
  {
   "cell_type": "code",
   "execution_count": 26,
   "id": "aa0f3307-6e88-40ef-84bd-65969afd7d00",
   "metadata": {
    "id": "aa0f3307-6e88-40ef-84bd-65969afd7d00"
   },
   "outputs": [],
   "source": [
    "df[\"fillna_domopen\"] = df[\"Domestic Opening (in $)\"].fillna(domopen_median)"
   ]
  },
  {
   "cell_type": "code",
   "execution_count": 27,
   "id": "87c50843-c290-4a59-baff-f68b68f7740c",
   "metadata": {
    "id": "87c50843-c290-4a59-baff-f68b68f7740c"
   },
   "outputs": [],
   "source": [
    "df[\"fillna_bud\"] = df[\"Budget (in $)\"].fillna(bud_median)"
   ]
  },
  {
   "cell_type": "code",
   "execution_count": 28,
   "id": "4a587324-35e7-4675-b125-65106c2fb22f",
   "metadata": {
    "colab": {
     "base_uri": "https://localhost:8080/",
     "height": 700
    },
    "id": "4a587324-35e7-4675-b125-65106c2fb22f",
    "outputId": "b7a8b130-65a5-42ec-f2e4-fc9db546c62c"
   },
   "outputs": [
    {
     "data": {
      "text/html": [
       "<div>\n",
       "<style scoped>\n",
       "    .dataframe tbody tr th:only-of-type {\n",
       "        vertical-align: middle;\n",
       "    }\n",
       "\n",
       "    .dataframe tbody tr th {\n",
       "        vertical-align: top;\n",
       "    }\n",
       "\n",
       "    .dataframe thead th {\n",
       "        text-align: right;\n",
       "    }\n",
       "</style>\n",
       "<table border=\"1\" class=\"dataframe\">\n",
       "  <thead>\n",
       "    <tr style=\"text-align: right;\">\n",
       "      <th></th>\n",
       "      <th>Title</th>\n",
       "      <th>Movie Info</th>\n",
       "      <th>Year</th>\n",
       "      <th>Distributor</th>\n",
       "      <th>Budget (in $)</th>\n",
       "      <th>Domestic Opening (in $)</th>\n",
       "      <th>Domestic Sales (in $)</th>\n",
       "      <th>International Sales (in $)</th>\n",
       "      <th>World Wide Sales (in $)</th>\n",
       "      <th>Release Date</th>\n",
       "      <th>Genre</th>\n",
       "      <th>Running Time</th>\n",
       "      <th>License</th>\n",
       "      <th>fillna_Distributor</th>\n",
       "      <th>fillna_License</th>\n",
       "      <th>fillna_domopen</th>\n",
       "      <th>fillna_bud</th>\n",
       "    </tr>\n",
       "  </thead>\n",
       "  <tbody>\n",
       "    <tr>\n",
       "      <th>0</th>\n",
       "      <td>Avatar</td>\n",
       "      <td>A paraplegic Marine dispatched to the moon Pan...</td>\n",
       "      <td>2009</td>\n",
       "      <td>Twentieth Century Fox</td>\n",
       "      <td>237000000.0</td>\n",
       "      <td>77025481.0</td>\n",
       "      <td>785221649</td>\n",
       "      <td>2138484377</td>\n",
       "      <td>2923706026</td>\n",
       "      <td>16-Dec-09</td>\n",
       "      <td>['Action', 'Adventure', 'Fantasy', 'Sci-Fi']</td>\n",
       "      <td>2 hr 42 min</td>\n",
       "      <td>PG-13</td>\n",
       "      <td>Twentieth Century Fox</td>\n",
       "      <td>PG-13</td>\n",
       "      <td>77025481.0</td>\n",
       "      <td>237000000.0</td>\n",
       "    </tr>\n",
       "    <tr>\n",
       "      <th>1</th>\n",
       "      <td>Avengers: Endgame</td>\n",
       "      <td>After the devastating events of Avengers: Infi...</td>\n",
       "      <td>2019</td>\n",
       "      <td>Walt Disney Studios Motion Pictures</td>\n",
       "      <td>356000000.0</td>\n",
       "      <td>357115007.0</td>\n",
       "      <td>858373000</td>\n",
       "      <td>1941066100</td>\n",
       "      <td>2799439100</td>\n",
       "      <td>24-Apr-19</td>\n",
       "      <td>['Action', 'Adventure', 'Drama', 'Sci-Fi']</td>\n",
       "      <td>3 hr 1 min</td>\n",
       "      <td>PG-13</td>\n",
       "      <td>Walt Disney Studios Motion Pictures</td>\n",
       "      <td>PG-13</td>\n",
       "      <td>357115007.0</td>\n",
       "      <td>356000000.0</td>\n",
       "    </tr>\n",
       "    <tr>\n",
       "      <th>2</th>\n",
       "      <td>Avatar: The Way of Water</td>\n",
       "      <td>Jake Sully lives with his newfound family form...</td>\n",
       "      <td>2022</td>\n",
       "      <td>20th Century Studios</td>\n",
       "      <td>NaN</td>\n",
       "      <td>134100226.0</td>\n",
       "      <td>684075767</td>\n",
       "      <td>1636174514</td>\n",
       "      <td>2320250281</td>\n",
       "      <td>24-Apr-19</td>\n",
       "      <td>['Action', 'Adventure', 'Drama', 'Sci-Fi']</td>\n",
       "      <td>3 hr 1 min</td>\n",
       "      <td>PG-13</td>\n",
       "      <td>20th Century Studios</td>\n",
       "      <td>PG-13</td>\n",
       "      <td>134100226.0</td>\n",
       "      <td>85000000.0</td>\n",
       "    </tr>\n",
       "    <tr>\n",
       "      <th>3</th>\n",
       "      <td>Titanic</td>\n",
       "      <td>A seventeen-year-old aristocrat falls in love ...</td>\n",
       "      <td>1997</td>\n",
       "      <td>Paramount Pictures</td>\n",
       "      <td>200000000.0</td>\n",
       "      <td>28638131.0</td>\n",
       "      <td>674292608</td>\n",
       "      <td>1590450697</td>\n",
       "      <td>2264743305</td>\n",
       "      <td>19-Dec-97</td>\n",
       "      <td>['Drama', 'Romance']</td>\n",
       "      <td>3 hr 14 min</td>\n",
       "      <td>PG-13</td>\n",
       "      <td>Paramount Pictures</td>\n",
       "      <td>PG-13</td>\n",
       "      <td>28638131.0</td>\n",
       "      <td>200000000.0</td>\n",
       "    </tr>\n",
       "    <tr>\n",
       "      <th>4</th>\n",
       "      <td>Star Wars: Episode VII - The Force Awakens</td>\n",
       "      <td>As a new threat to the galaxy rises, Rey, a de...</td>\n",
       "      <td>2015</td>\n",
       "      <td>Walt Disney Studios Motion Pictures</td>\n",
       "      <td>245000000.0</td>\n",
       "      <td>247966675.0</td>\n",
       "      <td>936662225</td>\n",
       "      <td>1134647993</td>\n",
       "      <td>2071310218</td>\n",
       "      <td>16-Dec-15</td>\n",
       "      <td>['Action', 'Adventure', 'Sci-Fi']</td>\n",
       "      <td>2 hr 18 min</td>\n",
       "      <td>PG-13</td>\n",
       "      <td>Walt Disney Studios Motion Pictures</td>\n",
       "      <td>PG-13</td>\n",
       "      <td>247966675.0</td>\n",
       "      <td>245000000.0</td>\n",
       "    </tr>\n",
       "  </tbody>\n",
       "</table>\n",
       "</div>"
      ],
      "text/plain": [
       "                                        Title  \\\n",
       "0                                      Avatar   \n",
       "1                           Avengers: Endgame   \n",
       "2                    Avatar: The Way of Water   \n",
       "3                                     Titanic   \n",
       "4  Star Wars: Episode VII - The Force Awakens   \n",
       "\n",
       "                                          Movie Info  Year  \\\n",
       "0  A paraplegic Marine dispatched to the moon Pan...  2009   \n",
       "1  After the devastating events of Avengers: Infi...  2019   \n",
       "2  Jake Sully lives with his newfound family form...  2022   \n",
       "3  A seventeen-year-old aristocrat falls in love ...  1997   \n",
       "4  As a new threat to the galaxy rises, Rey, a de...  2015   \n",
       "\n",
       "                           Distributor  Budget (in $)  \\\n",
       "0                Twentieth Century Fox    237000000.0   \n",
       "1  Walt Disney Studios Motion Pictures    356000000.0   \n",
       "2                 20th Century Studios            NaN   \n",
       "3                   Paramount Pictures    200000000.0   \n",
       "4  Walt Disney Studios Motion Pictures    245000000.0   \n",
       "\n",
       "   Domestic Opening (in $)  Domestic Sales (in $)  International Sales (in $)  \\\n",
       "0               77025481.0              785221649                  2138484377   \n",
       "1              357115007.0              858373000                  1941066100   \n",
       "2              134100226.0              684075767                  1636174514   \n",
       "3               28638131.0              674292608                  1590450697   \n",
       "4              247966675.0              936662225                  1134647993   \n",
       "\n",
       "   World Wide Sales (in $) Release Date  \\\n",
       "0               2923706026    16-Dec-09   \n",
       "1               2799439100    24-Apr-19   \n",
       "2               2320250281    24-Apr-19   \n",
       "3               2264743305    19-Dec-97   \n",
       "4               2071310218    16-Dec-15   \n",
       "\n",
       "                                          Genre Running Time License  \\\n",
       "0  ['Action', 'Adventure', 'Fantasy', 'Sci-Fi']  2 hr 42 min   PG-13   \n",
       "1    ['Action', 'Adventure', 'Drama', 'Sci-Fi']   3 hr 1 min   PG-13   \n",
       "2    ['Action', 'Adventure', 'Drama', 'Sci-Fi']   3 hr 1 min   PG-13   \n",
       "3                          ['Drama', 'Romance']  3 hr 14 min   PG-13   \n",
       "4             ['Action', 'Adventure', 'Sci-Fi']  2 hr 18 min   PG-13   \n",
       "\n",
       "                    fillna_Distributor fillna_License  fillna_domopen  \\\n",
       "0                Twentieth Century Fox          PG-13      77025481.0   \n",
       "1  Walt Disney Studios Motion Pictures          PG-13     357115007.0   \n",
       "2                 20th Century Studios          PG-13     134100226.0   \n",
       "3                   Paramount Pictures          PG-13      28638131.0   \n",
       "4  Walt Disney Studios Motion Pictures          PG-13     247966675.0   \n",
       "\n",
       "    fillna_bud  \n",
       "0  237000000.0  \n",
       "1  356000000.0  \n",
       "2   85000000.0  \n",
       "3  200000000.0  \n",
       "4  245000000.0  "
      ]
     },
     "execution_count": 28,
     "metadata": {},
     "output_type": "execute_result"
    }
   ],
   "source": [
    "df.head()"
   ]
  },
  {
   "cell_type": "markdown",
   "id": "c4b4d092-bab1-4674-ad27-36dc16341ec1",
   "metadata": {
    "id": "c4b4d092-bab1-4674-ad27-36dc16341ec1"
   },
   "source": [
    "Мы создали два столбца fillna_domopen и fillna_bud с замененными на медиану пропусками. Теперь можно переходить к удалению выбросов.  Мы выбрали принцип 1.5*IQR, так как он основан на значении квартилей, менее подверженных влиянию экстремальных значений, нежели стандартное отклонение, которое зависит от среднего, значительно меняющегося из-за выбросов."
   ]
  },
  {
   "cell_type": "markdown",
   "id": "d5a1000f-6be4-4bfc-aa0e-ae0577905f2c",
   "metadata": {
    "id": "d5a1000f-6be4-4bfc-aa0e-ae0577905f2c"
   },
   "source": [
    "Начнём с признака Domestic Sales."
   ]
  },
  {
   "cell_type": "code",
   "execution_count": 31,
   "id": "5513570b-0541-4d74-bcad-6bde414e568d",
   "metadata": {
    "colab": {
     "base_uri": "https://localhost:8080/"
    },
    "id": "5513570b-0541-4d74-bcad-6bde414e568d",
    "outputId": "5bd4e313-8e1c-4005-c3eb-dd5d988a182d"
   },
   "outputs": [
    {
     "data": {
      "text/plain": [
       "(-58286284.5, 352410623.5)"
      ]
     },
     "execution_count": 31,
     "metadata": {},
     "output_type": "execute_result"
    }
   ],
   "source": [
    "iqr_doms = df[\"Domestic Sales (in $)\"].quantile(0.75) - df[\"Domestic Sales (in $)\"].quantile(0.25)\n",
    "high_doms = df[\"Domestic Sales (in $)\"].quantile(0.75) + 1.5*iqr_doms\n",
    "low_doms = df[\"Domestic Sales (in $)\"].quantile(0.25) - 1.5*iqr_doms\n",
    "\n",
    "low_doms, high_doms #определили границы для чистых значений"
   ]
  },
  {
   "cell_type": "code",
   "execution_count": 32,
   "id": "8deeaffc-5c82-42de-8496-051c0cd28e47",
   "metadata": {
    "colab": {
     "base_uri": "https://localhost:8080/"
    },
    "id": "8deeaffc-5c82-42de-8496-051c0cd28e47",
    "outputId": "056654a9-cd74-445f-b50e-cc82261fe451"
   },
   "outputs": [
    {
     "name": "stdout",
     "output_type": "stream",
     "text": [
      "<class 'pandas.core.frame.DataFrame'>\n",
      "Index: 929 entries, 23 to 999\n",
      "Data columns (total 17 columns):\n",
      " #   Column                      Non-Null Count  Dtype  \n",
      "---  ------                      --------------  -----  \n",
      " 0   Title                       929 non-null    object \n",
      " 1   Movie Info                  929 non-null    object \n",
      " 2   Year                        929 non-null    int64  \n",
      " 3   Distributor                 928 non-null    object \n",
      " 4   Budget (in $)               732 non-null    float64\n",
      " 5   Domestic Opening (in $)     906 non-null    float64\n",
      " 6   Domestic Sales (in $)       929 non-null    int64  \n",
      " 7   International Sales (in $)  929 non-null    int64  \n",
      " 8   World Wide Sales (in $)     929 non-null    int64  \n",
      " 9   Release Date                929 non-null    object \n",
      " 10  Genre                       929 non-null    object \n",
      " 11  Running Time                929 non-null    object \n",
      " 12  License                     873 non-null    object \n",
      " 13  fillna_Distributor          929 non-null    object \n",
      " 14  fillna_License              929 non-null    object \n",
      " 15  fillna_domopen              929 non-null    float64\n",
      " 16  fillna_bud                  929 non-null    float64\n",
      "dtypes: float64(4), int64(4), object(9)\n",
      "memory usage: 130.6+ KB\n"
     ]
    }
   ],
   "source": [
    "df2 = df[(df[\"Domestic Sales (in $)\"] >= low_doms) & (df[\"Domestic Sales (in $)\"] <= high_doms)]\n",
    "df2.info()"
   ]
  },
  {
   "cell_type": "markdown",
   "id": "a15ba72e-0128-4980-9d71-50f12d448d99",
   "metadata": {},
   "source": [
    "В переменную df2 положили очищенный от выбросов df1, получили, что во всех колонках (за исключением тех, которым создали замену с подзаголовком \"fillna_\") осталось 929 объектов. Далее уберём выбросы по признаку International Sales."
   ]
  },
  {
   "cell_type": "code",
   "execution_count": 34,
   "id": "hMAas2OSGNf9",
   "metadata": {
    "colab": {
     "base_uri": "https://localhost:8080/"
    },
    "id": "hMAas2OSGNf9",
    "outputId": "a7832748-b119-4fc7-cc3f-fe6473e3260f"
   },
   "outputs": [
    {
     "data": {
      "text/plain": [
       "(-95552807.5, 501008868.5)"
      ]
     },
     "execution_count": 34,
     "metadata": {},
     "output_type": "execute_result"
    }
   ],
   "source": [
    "iqr_ints = df2['International Sales (in $)'].quantile(0.75) - df2['International Sales (in $)'].quantile(0.25)\n",
    "high_ints = df2['International Sales (in $)'].quantile(0.75) + 1.5 * iqr_ints\n",
    "low_ints = df2['International Sales (in $)'].quantile(0.25) - 1.5 * iqr_ints\n",
    "\n",
    "low_ints, high_ints #определили границы для чистых значений"
   ]
  },
  {
   "cell_type": "code",
   "execution_count": 35,
   "id": "e7Qs0L7CGzfx",
   "metadata": {
    "colab": {
     "base_uri": "https://localhost:8080/"
    },
    "id": "e7Qs0L7CGzfx",
    "outputId": "4b88840e-7799-4bd5-db5a-46577365528c"
   },
   "outputs": [
    {
     "name": "stdout",
     "output_type": "stream",
     "text": [
      "<class 'pandas.core.frame.DataFrame'>\n",
      "Index: 865 entries, 99 to 999\n",
      "Data columns (total 17 columns):\n",
      " #   Column                      Non-Null Count  Dtype  \n",
      "---  ------                      --------------  -----  \n",
      " 0   Title                       865 non-null    object \n",
      " 1   Movie Info                  865 non-null    object \n",
      " 2   Year                        865 non-null    int64  \n",
      " 3   Distributor                 864 non-null    object \n",
      " 4   Budget (in $)               687 non-null    float64\n",
      " 5   Domestic Opening (in $)     842 non-null    float64\n",
      " 6   Domestic Sales (in $)       865 non-null    int64  \n",
      " 7   International Sales (in $)  865 non-null    int64  \n",
      " 8   World Wide Sales (in $)     865 non-null    int64  \n",
      " 9   Release Date                865 non-null    object \n",
      " 10  Genre                       865 non-null    object \n",
      " 11  Running Time                865 non-null    object \n",
      " 12  License                     809 non-null    object \n",
      " 13  fillna_Distributor          865 non-null    object \n",
      " 14  fillna_License              865 non-null    object \n",
      " 15  fillna_domopen              865 non-null    float64\n",
      " 16  fillna_bud                  865 non-null    float64\n",
      "dtypes: float64(4), int64(4), object(9)\n",
      "memory usage: 121.6+ KB\n"
     ]
    }
   ],
   "source": [
    "df3 = df2[(df2['International Sales (in $)'] >= low_ints) & (df2['International Sales (in $)'] <= high_ints)]\n",
    "df3.info()"
   ]
  },
  {
   "cell_type": "markdown",
   "id": "cca8390b-6342-4cc6-8f8e-d6fe0314d127",
   "metadata": {},
   "source": [
    "В переменную df3 положили очищенный от выбросов df2, получили, что во всех колонках (за исключением тех, которым создали замену с подзаголовком \"fillna_\") осталось 865 объектов. Далее уберём выбросы по признаку World Wide Sales."
   ]
  },
  {
   "cell_type": "code",
   "execution_count": 37,
   "id": "duBj3tGhHL32",
   "metadata": {
    "colab": {
     "base_uri": "https://localhost:8080/"
    },
    "id": "duBj3tGhHL32",
    "outputId": "5e8ff984-44ec-41a6-a780-11372a722581"
   },
   "outputs": [
    {
     "data": {
      "text/plain": [
       "(-47139033.5, 662831946.5)"
      ]
     },
     "execution_count": 37,
     "metadata": {},
     "output_type": "execute_result"
    }
   ],
   "source": [
    "iqr_wws = df3['World Wide Sales (in $)'].quantile(0.75) - df3['World Wide Sales (in $)'].quantile(0.25)\n",
    "high_wws = df3['World Wide Sales (in $)'].quantile(0.75) + 1.5 * iqr_wws\n",
    "low_wws = df3['World Wide Sales (in $)'].quantile(0.25) - 1.5 * iqr_wws\n",
    "\n",
    "low_wws, high_wws #определили границы для чистых значений"
   ]
  },
  {
   "cell_type": "code",
   "execution_count": 38,
   "id": "7bsLCI7GHiQa",
   "metadata": {
    "colab": {
     "base_uri": "https://localhost:8080/"
    },
    "id": "7bsLCI7GHiQa",
    "outputId": "4877eb37-ea6b-4e02-f7d1-acacb613979b"
   },
   "outputs": [
    {
     "name": "stdout",
     "output_type": "stream",
     "text": [
      "<class 'pandas.core.frame.DataFrame'>\n",
      "Index: 836 entries, 156 to 999\n",
      "Data columns (total 17 columns):\n",
      " #   Column                      Non-Null Count  Dtype  \n",
      "---  ------                      --------------  -----  \n",
      " 0   Title                       836 non-null    object \n",
      " 1   Movie Info                  836 non-null    object \n",
      " 2   Year                        836 non-null    int64  \n",
      " 3   Distributor                 835 non-null    object \n",
      " 4   Budget (in $)               661 non-null    float64\n",
      " 5   Domestic Opening (in $)     813 non-null    float64\n",
      " 6   Domestic Sales (in $)       836 non-null    int64  \n",
      " 7   International Sales (in $)  836 non-null    int64  \n",
      " 8   World Wide Sales (in $)     836 non-null    int64  \n",
      " 9   Release Date                836 non-null    object \n",
      " 10  Genre                       836 non-null    object \n",
      " 11  Running Time                836 non-null    object \n",
      " 12  License                     780 non-null    object \n",
      " 13  fillna_Distributor          836 non-null    object \n",
      " 14  fillna_License              836 non-null    object \n",
      " 15  fillna_domopen              836 non-null    float64\n",
      " 16  fillna_bud                  836 non-null    float64\n",
      "dtypes: float64(4), int64(4), object(9)\n",
      "memory usage: 117.6+ KB\n"
     ]
    }
   ],
   "source": [
    "df4 = df3[(df3['World Wide Sales (in $)'] >= low_wws) & (df3['World Wide Sales (in $)'] <= high_wws)]\n",
    "df4.info()"
   ]
  },
  {
   "cell_type": "markdown",
   "id": "bf90b60e-08ed-497b-98e1-e2047e8a40e2",
   "metadata": {},
   "source": [
    "В переменную df4 положили очищенный от выбросов df3, получили, что во всех колонках (за исключением тех, которым создали замену с подзаголовком \n",
    "\"fillna_\") осталось 836 объектов. Далее уберём выбросы по признаку fillna_domopen."
   ]
  },
  {
   "cell_type": "code",
   "execution_count": 40,
   "id": "WWiCDJkZH-iV",
   "metadata": {
    "colab": {
     "base_uri": "https://localhost:8080/"
    },
    "id": "WWiCDJkZH-iV",
    "outputId": "9f521f45-784c-4a13-ff65-12b013222e80"
   },
   "outputs": [
    {
     "data": {
      "text/plain": [
       "(-18274193.75, 79183626.25)"
      ]
     },
     "execution_count": 40,
     "metadata": {},
     "output_type": "execute_result"
    }
   ],
   "source": [
    "iqr_fn_domop = df4['fillna_domopen'].quantile(0.75) - df4['fillna_domopen'].quantile(0.25)\n",
    "low_fn_domop = df4['fillna_domopen'].quantile(0.25) - 1.5 * iqr_fn_domop\n",
    "high_fn_domop = df4['fillna_domopen'].quantile(0.75) + 1.5 * iqr_fn_domop\n",
    "\n",
    "low_fn_domop, high_fn_domop #Вычислили граничные значения"
   ]
  },
  {
   "cell_type": "code",
   "execution_count": 41,
   "id": "K5-jut5KIbXq",
   "metadata": {
    "colab": {
     "base_uri": "https://localhost:8080/"
    },
    "id": "K5-jut5KIbXq",
    "outputId": "976bc5c8-3a80-45f6-9073-34b16eb982e9"
   },
   "outputs": [
    {
     "name": "stdout",
     "output_type": "stream",
     "text": [
      "<class 'pandas.core.frame.DataFrame'>\n",
      "Index: 816 entries, 157 to 999\n",
      "Data columns (total 17 columns):\n",
      " #   Column                      Non-Null Count  Dtype  \n",
      "---  ------                      --------------  -----  \n",
      " 0   Title                       816 non-null    object \n",
      " 1   Movie Info                  816 non-null    object \n",
      " 2   Year                        816 non-null    int64  \n",
      " 3   Distributor                 815 non-null    object \n",
      " 4   Budget (in $)               646 non-null    float64\n",
      " 5   Domestic Opening (in $)     793 non-null    float64\n",
      " 6   Domestic Sales (in $)       816 non-null    int64  \n",
      " 7   International Sales (in $)  816 non-null    int64  \n",
      " 8   World Wide Sales (in $)     816 non-null    int64  \n",
      " 9   Release Date                816 non-null    object \n",
      " 10  Genre                       816 non-null    object \n",
      " 11  Running Time                816 non-null    object \n",
      " 12  License                     761 non-null    object \n",
      " 13  fillna_Distributor          816 non-null    object \n",
      " 14  fillna_License              816 non-null    object \n",
      " 15  fillna_domopen              816 non-null    float64\n",
      " 16  fillna_bud                  816 non-null    float64\n",
      "dtypes: float64(4), int64(4), object(9)\n",
      "memory usage: 114.8+ KB\n"
     ]
    }
   ],
   "source": [
    "df5 = df4[(df4['fillna_domopen'] >= low_fn_domop) & (df4['fillna_domopen'] <= high_fn_domop)]\n",
    "df5.info()"
   ]
  },
  {
   "cell_type": "markdown",
   "id": "e4dc9d29-cc8d-48fc-8143-91fd2b23811c",
   "metadata": {},
   "source": [
    "В переменную df5 положили очищенный от выбросов df4, получили, что во всех колонках (за исключением тех, которым создали замену с подзаголовком \n",
    "\"fillna_\") осталось 816 объектов. Далее уберём выбросы по признаку fillna_bud."
   ]
  },
  {
   "cell_type": "code",
   "execution_count": 43,
   "id": "d077d0cb-b1f8-4e3c-a223-942c0d9d13d9",
   "metadata": {},
   "outputs": [
    {
     "data": {
      "text/plain": [
       "(-15875000.0, 173125000.0)"
      ]
     },
     "execution_count": 43,
     "metadata": {},
     "output_type": "execute_result"
    }
   ],
   "source": [
    "iqr_fn_bud = df5['fillna_bud'].quantile(0.75) - df5['fillna_bud'].quantile(0.25)\n",
    "low_fn_bud = df5['fillna_bud'].quantile(0.25) - 1.5 * iqr_fn_bud\n",
    "high_fn_bud = df5['fillna_bud'].quantile(0.75) + 1.5 * iqr_fn_bud\n",
    "\n",
    "low_fn_bud, high_fn_bud #Вычислили граничные значения"
   ]
  },
  {
   "cell_type": "code",
   "execution_count": 44,
   "id": "8b8505b7-deb5-4167-b4d6-58a5ee2572f9",
   "metadata": {},
   "outputs": [
    {
     "name": "stdout",
     "output_type": "stream",
     "text": [
      "<class 'pandas.core.frame.DataFrame'>\n",
      "Index: 771 entries, 157 to 999\n",
      "Data columns (total 17 columns):\n",
      " #   Column                      Non-Null Count  Dtype  \n",
      "---  ------                      --------------  -----  \n",
      " 0   Title                       771 non-null    object \n",
      " 1   Movie Info                  771 non-null    object \n",
      " 2   Year                        771 non-null    int64  \n",
      " 3   Distributor                 770 non-null    object \n",
      " 4   Budget (in $)               601 non-null    float64\n",
      " 5   Domestic Opening (in $)     748 non-null    float64\n",
      " 6   Domestic Sales (in $)       771 non-null    int64  \n",
      " 7   International Sales (in $)  771 non-null    int64  \n",
      " 8   World Wide Sales (in $)     771 non-null    int64  \n",
      " 9   Release Date                771 non-null    object \n",
      " 10  Genre                       771 non-null    object \n",
      " 11  Running Time                771 non-null    object \n",
      " 12  License                     717 non-null    object \n",
      " 13  fillna_Distributor          771 non-null    object \n",
      " 14  fillna_License              771 non-null    object \n",
      " 15  fillna_domopen              771 non-null    float64\n",
      " 16  fillna_bud                  771 non-null    float64\n",
      "dtypes: float64(4), int64(4), object(9)\n",
      "memory usage: 108.4+ KB\n"
     ]
    }
   ],
   "source": [
    "df6 = df5[(df5['fillna_bud'] >= low_fn_bud) & (df5['fillna_bud'] <= high_fn_bud)]\n",
    "df6.info()"
   ]
  },
  {
   "cell_type": "code",
   "execution_count": 45,
   "id": "2cf85632-3fc1-40e3-af0e-7673bbed05c8",
   "metadata": {},
   "outputs": [
    {
     "data": {
      "text/plain": [
       "(771, 17)"
      ]
     },
     "execution_count": 45,
     "metadata": {},
     "output_type": "execute_result"
    }
   ],
   "source": [
    "df6.shape"
   ]
  },
  {
   "cell_type": "raw",
   "id": "9d56ed78-0743-4a4f-8fd7-241beea13f51",
   "metadata": {},
   "source": [
    "Таким образом, после очистки датасета от выбросов в 5 релевантных категориях остаётся 771 строка с данными. Очищенный датасет лежит в переменной df6.\n",
    "Теперь перейдём к описательным статистикам"
   ]
  },
  {
   "cell_type": "code",
   "execution_count": 46,
   "id": "540a3adc-c771-466a-a489-a789ca5f2305",
   "metadata": {},
   "outputs": [
    {
     "data": {
      "text/html": [
       "<div>\n",
       "<style scoped>\n",
       "    .dataframe tbody tr th:only-of-type {\n",
       "        vertical-align: middle;\n",
       "    }\n",
       "\n",
       "    .dataframe tbody tr th {\n",
       "        vertical-align: top;\n",
       "    }\n",
       "\n",
       "    .dataframe thead th {\n",
       "        text-align: right;\n",
       "    }\n",
       "</style>\n",
       "<table border=\"1\" class=\"dataframe\">\n",
       "  <thead>\n",
       "    <tr style=\"text-align: right;\">\n",
       "      <th></th>\n",
       "      <th>Year</th>\n",
       "      <th>Budget (in $)</th>\n",
       "      <th>Domestic Opening (in $)</th>\n",
       "      <th>Domestic Sales (in $)</th>\n",
       "      <th>International Sales (in $)</th>\n",
       "      <th>World Wide Sales (in $)</th>\n",
       "      <th>fillna_domopen</th>\n",
       "      <th>fillna_bud</th>\n",
       "    </tr>\n",
       "  </thead>\n",
       "  <tbody>\n",
       "    <tr>\n",
       "      <th>count</th>\n",
       "      <td>771.000000</td>\n",
       "      <td>6.010000e+02</td>\n",
       "      <td>7.480000e+02</td>\n",
       "      <td>7.710000e+02</td>\n",
       "      <td>7.710000e+02</td>\n",
       "      <td>7.710000e+02</td>\n",
       "      <td>7.710000e+02</td>\n",
       "      <td>7.710000e+02</td>\n",
       "    </tr>\n",
       "    <tr>\n",
       "      <th>mean</th>\n",
       "      <td>2006.775616</td>\n",
       "      <td>7.715470e+07</td>\n",
       "      <td>2.912713e+07</td>\n",
       "      <td>1.251897e+08</td>\n",
       "      <td>1.832634e+08</td>\n",
       "      <td>3.041683e+08</td>\n",
       "      <td>2.923642e+07</td>\n",
       "      <td>7.888453e+07</td>\n",
       "    </tr>\n",
       "    <tr>\n",
       "      <th>std</th>\n",
       "      <td>11.044901</td>\n",
       "      <td>4.274501e+07</td>\n",
       "      <td>1.816189e+07</td>\n",
       "      <td>5.899455e+07</td>\n",
       "      <td>8.439008e+07</td>\n",
       "      <td>1.079460e+08</td>\n",
       "      <td>1.789945e+07</td>\n",
       "      <td>3.787261e+07</td>\n",
       "    </tr>\n",
       "    <tr>\n",
       "      <th>min</th>\n",
       "      <td>1937.000000</td>\n",
       "      <td>1.500000e+04</td>\n",
       "      <td>7.456000e+03</td>\n",
       "      <td>6.752000e+03</td>\n",
       "      <td>2.450000e+07</td>\n",
       "      <td>1.799689e+08</td>\n",
       "      <td>7.456000e+03</td>\n",
       "      <td>1.500000e+04</td>\n",
       "    </tr>\n",
       "    <tr>\n",
       "      <th>25%</th>\n",
       "      <td>2000.000000</td>\n",
       "      <td>4.000000e+07</td>\n",
       "      <td>1.672924e+07</td>\n",
       "      <td>8.598825e+07</td>\n",
       "      <td>1.191283e+08</td>\n",
       "      <td>2.158631e+08</td>\n",
       "      <td>1.709241e+07</td>\n",
       "      <td>5.000000e+07</td>\n",
       "    </tr>\n",
       "    <tr>\n",
       "      <th>50%</th>\n",
       "      <td>2009.000000</td>\n",
       "      <td>7.500000e+07</td>\n",
       "      <td>2.755276e+07</td>\n",
       "      <td>1.200596e+08</td>\n",
       "      <td>1.661272e+08</td>\n",
       "      <td>2.714573e+08</td>\n",
       "      <td>2.859137e+07</td>\n",
       "      <td>8.500000e+07</td>\n",
       "    </tr>\n",
       "    <tr>\n",
       "      <th>75%</th>\n",
       "      <td>2015.000000</td>\n",
       "      <td>1.050000e+08</td>\n",
       "      <td>4.058821e+07</td>\n",
       "      <td>1.609020e+08</td>\n",
       "      <td>2.295739e+08</td>\n",
       "      <td>3.654677e+08</td>\n",
       "      <td>4.032697e+07</td>\n",
       "      <td>9.780000e+07</td>\n",
       "    </tr>\n",
       "    <tr>\n",
       "      <th>max</th>\n",
       "      <td>2023.000000</td>\n",
       "      <td>1.700000e+08</td>\n",
       "      <td>7.721132e+07</td>\n",
       "      <td>3.501590e+08</td>\n",
       "      <td>4.840295e+08</td>\n",
       "      <td>6.578697e+08</td>\n",
       "      <td>7.721132e+07</td>\n",
       "      <td>1.700000e+08</td>\n",
       "    </tr>\n",
       "  </tbody>\n",
       "</table>\n",
       "</div>"
      ],
      "text/plain": [
       "              Year  Budget (in $)  Domestic Opening (in $)  \\\n",
       "count   771.000000   6.010000e+02             7.480000e+02   \n",
       "mean   2006.775616   7.715470e+07             2.912713e+07   \n",
       "std      11.044901   4.274501e+07             1.816189e+07   \n",
       "min    1937.000000   1.500000e+04             7.456000e+03   \n",
       "25%    2000.000000   4.000000e+07             1.672924e+07   \n",
       "50%    2009.000000   7.500000e+07             2.755276e+07   \n",
       "75%    2015.000000   1.050000e+08             4.058821e+07   \n",
       "max    2023.000000   1.700000e+08             7.721132e+07   \n",
       "\n",
       "       Domestic Sales (in $)  International Sales (in $)  \\\n",
       "count           7.710000e+02                7.710000e+02   \n",
       "mean            1.251897e+08                1.832634e+08   \n",
       "std             5.899455e+07                8.439008e+07   \n",
       "min             6.752000e+03                2.450000e+07   \n",
       "25%             8.598825e+07                1.191283e+08   \n",
       "50%             1.200596e+08                1.661272e+08   \n",
       "75%             1.609020e+08                2.295739e+08   \n",
       "max             3.501590e+08                4.840295e+08   \n",
       "\n",
       "       World Wide Sales (in $)  fillna_domopen    fillna_bud  \n",
       "count             7.710000e+02    7.710000e+02  7.710000e+02  \n",
       "mean              3.041683e+08    2.923642e+07  7.888453e+07  \n",
       "std               1.079460e+08    1.789945e+07  3.787261e+07  \n",
       "min               1.799689e+08    7.456000e+03  1.500000e+04  \n",
       "25%               2.158631e+08    1.709241e+07  5.000000e+07  \n",
       "50%               2.714573e+08    2.859137e+07  8.500000e+07  \n",
       "75%               3.654677e+08    4.032697e+07  9.780000e+07  \n",
       "max               6.578697e+08    7.721132e+07  1.700000e+08  "
      ]
     },
     "execution_count": 46,
     "metadata": {},
     "output_type": "execute_result"
    }
   ],
   "source": [
    "df6.describe()"
   ]
  },
  {
   "cell_type": "code",
   "execution_count": 47,
   "id": "2921d881-13d1-4538-afcf-a021474aa9f7",
   "metadata": {},
   "outputs": [
    {
     "data": {
      "text/html": [
       "<div>\n",
       "<style scoped>\n",
       "    .dataframe tbody tr th:only-of-type {\n",
       "        vertical-align: middle;\n",
       "    }\n",
       "\n",
       "    .dataframe tbody tr th {\n",
       "        vertical-align: top;\n",
       "    }\n",
       "\n",
       "    .dataframe thead th {\n",
       "        text-align: right;\n",
       "    }\n",
       "</style>\n",
       "<table border=\"1\" class=\"dataframe\">\n",
       "  <thead>\n",
       "    <tr style=\"text-align: right;\">\n",
       "      <th></th>\n",
       "      <th>Title</th>\n",
       "      <th>Movie Info</th>\n",
       "      <th>Year</th>\n",
       "      <th>Distributor</th>\n",
       "      <th>Budget (in $)</th>\n",
       "      <th>Domestic Opening (in $)</th>\n",
       "      <th>Domestic Sales (in $)</th>\n",
       "      <th>International Sales (in $)</th>\n",
       "      <th>World Wide Sales (in $)</th>\n",
       "      <th>Release Date</th>\n",
       "      <th>Genre</th>\n",
       "      <th>Running Time</th>\n",
       "      <th>License</th>\n",
       "      <th>fillna_Distributor</th>\n",
       "      <th>fillna_License</th>\n",
       "      <th>fillna_domopen</th>\n",
       "      <th>fillna_bud</th>\n",
       "    </tr>\n",
       "  </thead>\n",
       "  <tbody>\n",
       "    <tr>\n",
       "      <th>966</th>\n",
       "      <td>Snow White and the Seven Dwarfs</td>\n",
       "      <td>Exiled into the dangerous forest by her wicked...</td>\n",
       "      <td>1937</td>\n",
       "      <td>Walt Disney Studios Motion Pictures</td>\n",
       "      <td>NaN</td>\n",
       "      <td>1499000.0</td>\n",
       "      <td>184925486</td>\n",
       "      <td>184925486</td>\n",
       "      <td>184928542</td>\n",
       "      <td>18-May-01</td>\n",
       "      <td>['Drama', 'Musical', 'Romance']</td>\n",
       "      <td>2 hr 7 min</td>\n",
       "      <td>PG-13</td>\n",
       "      <td>Walt Disney Studios Motion Pictures</td>\n",
       "      <td>PG-13</td>\n",
       "      <td>1499000.0</td>\n",
       "      <td>85000000.0</td>\n",
       "    </tr>\n",
       "  </tbody>\n",
       "</table>\n",
       "</div>"
      ],
      "text/plain": [
       "                               Title  \\\n",
       "966  Snow White and the Seven Dwarfs   \n",
       "\n",
       "                                            Movie Info  Year  \\\n",
       "966  Exiled into the dangerous forest by her wicked...  1937   \n",
       "\n",
       "                             Distributor  Budget (in $)  \\\n",
       "966  Walt Disney Studios Motion Pictures            NaN   \n",
       "\n",
       "     Domestic Opening (in $)  Domestic Sales (in $)  \\\n",
       "966                1499000.0              184925486   \n",
       "\n",
       "     International Sales (in $)  World Wide Sales (in $) Release Date  \\\n",
       "966                   184925486                184928542    18-May-01   \n",
       "\n",
       "                               Genre Running Time License  \\\n",
       "966  ['Drama', 'Musical', 'Romance']   2 hr 7 min   PG-13   \n",
       "\n",
       "                      fillna_Distributor fillna_License  fillna_domopen  \\\n",
       "966  Walt Disney Studios Motion Pictures          PG-13       1499000.0   \n",
       "\n",
       "     fillna_bud  \n",
       "966  85000000.0  "
      ]
     },
     "execution_count": 47,
     "metadata": {},
     "output_type": "execute_result"
    }
   ],
   "source": [
    "df6[df6[\"Year\"] == 1937]"
   ]
  },
  {
   "cell_type": "markdown",
   "id": "e125d340-922f-4c6d-aae9-2656acbb5404",
   "metadata": {},
   "source": [
    "1) Самый старый фильм в очищенной выборке - \"Snow White and the Seven Dwarfs\", он был выпущен в 1937. Разница между ним и самыми актуальными фильмами в подборке равна 86 годам. Интересно, что в 1939 главный продюсер фильма Уолт Дисней получил 1 большой и 7 маленьких оскаров за вклад в развитие анимации, что стало своеобразной отсылкой именно к этому мультфильму."
   ]
  },
  {
   "cell_type": "code",
   "execution_count": 49,
   "id": "90f599db-2847-49ca-b794-ff60a9765ce6",
   "metadata": {},
   "outputs": [
    {
     "data": {
      "text/html": [
       "<div>\n",
       "<style scoped>\n",
       "    .dataframe tbody tr th:only-of-type {\n",
       "        vertical-align: middle;\n",
       "    }\n",
       "\n",
       "    .dataframe tbody tr th {\n",
       "        vertical-align: top;\n",
       "    }\n",
       "\n",
       "    .dataframe thead th {\n",
       "        text-align: right;\n",
       "    }\n",
       "</style>\n",
       "<table border=\"1\" class=\"dataframe\">\n",
       "  <thead>\n",
       "    <tr style=\"text-align: right;\">\n",
       "      <th></th>\n",
       "      <th>Year</th>\n",
       "      <th>Budget (in $)</th>\n",
       "      <th>Domestic Opening (in $)</th>\n",
       "      <th>Domestic Sales (in $)</th>\n",
       "      <th>International Sales (in $)</th>\n",
       "      <th>World Wide Sales (in $)</th>\n",
       "      <th>fillna_domopen</th>\n",
       "      <th>fillna_bud</th>\n",
       "    </tr>\n",
       "  </thead>\n",
       "  <tbody>\n",
       "    <tr>\n",
       "      <th>count</th>\n",
       "      <td>771.00000</td>\n",
       "      <td>601.00000</td>\n",
       "      <td>748.00000</td>\n",
       "      <td>771.00000</td>\n",
       "      <td>771.00000</td>\n",
       "      <td>771.00000</td>\n",
       "      <td>771.00000</td>\n",
       "      <td>771.00000</td>\n",
       "    </tr>\n",
       "    <tr>\n",
       "      <th>mean</th>\n",
       "      <td>2006.77562</td>\n",
       "      <td>77154700.49917</td>\n",
       "      <td>29127127.37834</td>\n",
       "      <td>125189672.16342</td>\n",
       "      <td>183263357.08301</td>\n",
       "      <td>304168343.67575</td>\n",
       "      <td>29236417.87808</td>\n",
       "      <td>78884533.07393</td>\n",
       "    </tr>\n",
       "    <tr>\n",
       "      <th>std</th>\n",
       "      <td>11.04490</td>\n",
       "      <td>42745007.12649</td>\n",
       "      <td>18161888.20565</td>\n",
       "      <td>58994552.33516</td>\n",
       "      <td>84390075.35373</td>\n",
       "      <td>107946001.57165</td>\n",
       "      <td>17899451.20620</td>\n",
       "      <td>37872609.16773</td>\n",
       "    </tr>\n",
       "    <tr>\n",
       "      <th>min</th>\n",
       "      <td>1937.00000</td>\n",
       "      <td>15000.00000</td>\n",
       "      <td>7456.00000</td>\n",
       "      <td>6752.00000</td>\n",
       "      <td>24500000.00000</td>\n",
       "      <td>179968873.00000</td>\n",
       "      <td>7456.00000</td>\n",
       "      <td>15000.00000</td>\n",
       "    </tr>\n",
       "    <tr>\n",
       "      <th>25%</th>\n",
       "      <td>2000.00000</td>\n",
       "      <td>40000000.00000</td>\n",
       "      <td>16729237.00000</td>\n",
       "      <td>85988250.00000</td>\n",
       "      <td>119128263.50000</td>\n",
       "      <td>215863149.00000</td>\n",
       "      <td>17092408.00000</td>\n",
       "      <td>50000000.00000</td>\n",
       "    </tr>\n",
       "    <tr>\n",
       "      <th>50%</th>\n",
       "      <td>2009.00000</td>\n",
       "      <td>75000000.00000</td>\n",
       "      <td>27552756.50000</td>\n",
       "      <td>120059556.00000</td>\n",
       "      <td>166127224.00000</td>\n",
       "      <td>271457301.00000</td>\n",
       "      <td>28591370.00000</td>\n",
       "      <td>85000000.00000</td>\n",
       "    </tr>\n",
       "    <tr>\n",
       "      <th>75%</th>\n",
       "      <td>2015.00000</td>\n",
       "      <td>105000000.00000</td>\n",
       "      <td>40588210.50000</td>\n",
       "      <td>160902023.50000</td>\n",
       "      <td>229573881.50000</td>\n",
       "      <td>365467671.50000</td>\n",
       "      <td>40326969.50000</td>\n",
       "      <td>97800000.00000</td>\n",
       "    </tr>\n",
       "    <tr>\n",
       "      <th>max</th>\n",
       "      <td>2023.00000</td>\n",
       "      <td>170000000.00000</td>\n",
       "      <td>77211321.00000</td>\n",
       "      <td>350159020.00000</td>\n",
       "      <td>484029542.00000</td>\n",
       "      <td>657869686.00000</td>\n",
       "      <td>77211321.00000</td>\n",
       "      <td>170000000.00000</td>\n",
       "    </tr>\n",
       "  </tbody>\n",
       "</table>\n",
       "</div>"
      ],
      "text/plain": [
       "             Year    Budget (in $) Domestic Opening (in $)  \\\n",
       "count   771.00000        601.00000               748.00000   \n",
       "mean   2006.77562   77154700.49917          29127127.37834   \n",
       "std      11.04490   42745007.12649          18161888.20565   \n",
       "min    1937.00000      15000.00000              7456.00000   \n",
       "25%    2000.00000   40000000.00000          16729237.00000   \n",
       "50%    2009.00000   75000000.00000          27552756.50000   \n",
       "75%    2015.00000  105000000.00000          40588210.50000   \n",
       "max    2023.00000  170000000.00000          77211321.00000   \n",
       "\n",
       "      Domestic Sales (in $) International Sales (in $)  \\\n",
       "count             771.00000                  771.00000   \n",
       "mean        125189672.16342            183263357.08301   \n",
       "std          58994552.33516             84390075.35373   \n",
       "min              6752.00000             24500000.00000   \n",
       "25%          85988250.00000            119128263.50000   \n",
       "50%         120059556.00000            166127224.00000   \n",
       "75%         160902023.50000            229573881.50000   \n",
       "max         350159020.00000            484029542.00000   \n",
       "\n",
       "      World Wide Sales (in $)  fillna_domopen       fillna_bud  \n",
       "count               771.00000       771.00000        771.00000  \n",
       "mean          304168343.67575  29236417.87808   78884533.07393  \n",
       "std           107946001.57165  17899451.20620   37872609.16773  \n",
       "min           179968873.00000      7456.00000      15000.00000  \n",
       "25%           215863149.00000  17092408.00000   50000000.00000  \n",
       "50%           271457301.00000  28591370.00000   85000000.00000  \n",
       "75%           365467671.50000  40326969.50000   97800000.00000  \n",
       "max           657869686.00000  77211321.00000  170000000.00000  "
      ]
     },
     "execution_count": 49,
     "metadata": {},
     "output_type": "execute_result"
    }
   ],
   "source": [
    "df6.describe().apply(lambda s: s.apply('{0:.5f}'.format))"
   ]
  },
  {
   "cell_type": "markdown",
   "id": "3a229325-761c-434c-acf3-b29b7f37bf68",
   "metadata": {},
   "source": [
    "2) Мы применили функцию, чтобы числовые значения значения стали читаемыми. Теперь можем их анализировать. \n",
    "Обратим внимание на признак International Sales (in $), его среднее значение равно 183263357.08301, а стандартное отклонение 84390075.35373. Зная их можем найти коэффициент вариации, чтобы оценить степень однородности данных:"
   ]
  },
  {
   "cell_type": "code",
   "execution_count": 51,
   "id": "ea81630f-75ef-4af2-8bef-7bc4b09d485d",
   "metadata": {},
   "outputs": [
    {
     "data": {
      "text/plain": [
       "46.04852639227007"
      ]
     },
     "execution_count": 51,
     "metadata": {},
     "output_type": "execute_result"
    }
   ],
   "source": [
    "coef_var = (84390075.35373/183263357.08301)*100\n",
    "coef_var #в процентах"
   ]
  },
  {
   "cell_type": "markdown",
   "id": "da838d21-32c3-460d-8d67-6f2eb4e4aeb7",
   "metadata": {},
   "source": [
    "Оказалось, что коэффициент вариации составляет около 46%, что говорит о значительной степени рассеивания данных и неоднородности совокупности"
   ]
  },
  {
   "cell_type": "code",
   "execution_count": 53,
   "id": "7a40fba3-c322-4b9e-b1f9-1d5041178cad",
   "metadata": {},
   "outputs": [
    {
     "data": {
      "text/html": [
       "<div>\n",
       "<style scoped>\n",
       "    .dataframe tbody tr th:only-of-type {\n",
       "        vertical-align: middle;\n",
       "    }\n",
       "\n",
       "    .dataframe tbody tr th {\n",
       "        vertical-align: top;\n",
       "    }\n",
       "\n",
       "    .dataframe thead th {\n",
       "        text-align: right;\n",
       "    }\n",
       "</style>\n",
       "<table border=\"1\" class=\"dataframe\">\n",
       "  <thead>\n",
       "    <tr style=\"text-align: right;\">\n",
       "      <th></th>\n",
       "      <th>Title</th>\n",
       "      <th>Movie Info</th>\n",
       "      <th>Distributor</th>\n",
       "      <th>Release Date</th>\n",
       "      <th>Genre</th>\n",
       "      <th>Running Time</th>\n",
       "      <th>License</th>\n",
       "      <th>fillna_Distributor</th>\n",
       "      <th>fillna_License</th>\n",
       "    </tr>\n",
       "  </thead>\n",
       "  <tbody>\n",
       "    <tr>\n",
       "      <th>count</th>\n",
       "      <td>771</td>\n",
       "      <td>771</td>\n",
       "      <td>770</td>\n",
       "      <td>771</td>\n",
       "      <td>771</td>\n",
       "      <td>771</td>\n",
       "      <td>717</td>\n",
       "      <td>771</td>\n",
       "      <td>771</td>\n",
       "    </tr>\n",
       "    <tr>\n",
       "      <th>unique</th>\n",
       "      <td>765</td>\n",
       "      <td>771</td>\n",
       "      <td>65</td>\n",
       "      <td>553</td>\n",
       "      <td>249</td>\n",
       "      <td>94</td>\n",
       "      <td>4</td>\n",
       "      <td>65</td>\n",
       "      <td>4</td>\n",
       "    </tr>\n",
       "    <tr>\n",
       "      <th>top</th>\n",
       "      <td>Hercules</td>\n",
       "      <td>A special bond develops between plus-sized inf...</td>\n",
       "      <td>Warner Bros.</td>\n",
       "      <td>20-Mar-14</td>\n",
       "      <td>['Action', 'Adventure', 'Thriller']</td>\n",
       "      <td>1 hr 46 min</td>\n",
       "      <td>PG-13</td>\n",
       "      <td>Warner Bros.</td>\n",
       "      <td>PG-13</td>\n",
       "    </tr>\n",
       "    <tr>\n",
       "      <th>freq</th>\n",
       "      <td>2</td>\n",
       "      <td>1</td>\n",
       "      <td>121</td>\n",
       "      <td>5</td>\n",
       "      <td>29</td>\n",
       "      <td>22</td>\n",
       "      <td>337</td>\n",
       "      <td>122</td>\n",
       "      <td>391</td>\n",
       "    </tr>\n",
       "  </tbody>\n",
       "</table>\n",
       "</div>"
      ],
      "text/plain": [
       "           Title                                         Movie Info  \\\n",
       "count        771                                                771   \n",
       "unique       765                                                771   \n",
       "top     Hercules  A special bond develops between plus-sized inf...   \n",
       "freq           2                                                  1   \n",
       "\n",
       "         Distributor Release Date                                Genre  \\\n",
       "count            770          771                                  771   \n",
       "unique            65          553                                  249   \n",
       "top     Warner Bros.    20-Mar-14  ['Action', 'Adventure', 'Thriller']   \n",
       "freq             121            5                                   29   \n",
       "\n",
       "       Running Time License fillna_Distributor fillna_License  \n",
       "count           771     717                771            771  \n",
       "unique           94       4                 65              4  \n",
       "top     1 hr 46 min   PG-13       Warner Bros.          PG-13  \n",
       "freq             22     337                122            391  "
      ]
     },
     "execution_count": 53,
     "metadata": {},
     "output_type": "execute_result"
    }
   ],
   "source": [
    "df6.describe(include = 'object')"
   ]
  },
  {
   "cell_type": "markdown",
   "id": "9073caaa-0b87-4a66-9823-a7c14004f3af",
   "metadata": {},
   "source": [
    "3) Обратимся к данным с типом object. К нашему удивлению, максимальная частота значений по признаку Title равна 2, то есть какое-то название фильма встретилось дважды. Ошибка? Нет, просто в датасете есть два разных фильма с названием \"Hercules\": легендарный мультфильм 1997 года и фэнтезийный боевик с Дуэйном Джонсоном из 2014 года.\n",
    "\n",
    "4) Также интересно, что самым частым сочетанием жанров является ['Action', 'Adventure', 'Thriller'], частота составляет 29. Оно же и свойственно для так называемых \"фильмов-аттракционов\", которые призваны завлекать зрителей в кинотеатры.\n",
    "\n",
    "Теперь перейдём к визуализации."
   ]
  },
  {
   "cell_type": "code",
   "execution_count": 55,
   "id": "df0a12e9-8d42-44ee-b990-19b3ab61af98",
   "metadata": {},
   "outputs": [
    {
     "data": {
      "text/plain": [
       "<Axes: title={'center': 'Рис.3 Круговая диаграмма распределения лицензий фильмов'}, ylabel='count'>"
      ]
     },
     "execution_count": 55,
     "metadata": {},
     "output_type": "execute_result"
    },
    {
     "data": {
      "image/png": "[encoded data removed]",
      "text/plain": [
       "<Figure size 640x480 with 1 Axes>"
      ]
     },
     "metadata": {},
     "output_type": "display_data"
    }
   ],
   "source": [
    "df6[\"fillna_License\"].value_counts().plot(kind=\"pie\", title=\"Рис.3 Круговая диаграмма распределения лицензий фильмов\")"
   ]
  },
  {
   "cell_type": "markdown",
   "id": "de63df48-2fd4-42f4-ae8a-8a59c3c5f0f5",
   "metadata": {},
   "source": [
    "По круговой диаграмме видно, что рейтинг PG-13 (просмотр разрешен с 13 лет) установлен для более, чем половины фильмов из датафрейма. Около четверти занимают как лицензия R (17+), так и PG (разрешен для просмотра детьми только с родителями, находится между R и G). Едва заметная доля за фильмами с рейтингом G (демонстрируруется без ограничений). Можно сделать вывод о том, что PG - самый компромиссный рейтинг в том смысле, что он позволяет собрать в кинозалах и основную часть детской аудитории (подростки), и допускает достаточно вольностей в плане юморе и жестокости, чтобы привлечь взрослых. Поэтому наибольшую вероятность добиться огромных сборов студии видят именно с фильмами с рейтингом PG-13.\n",
    "\n",
    "Фильмы с лицензиями R и PG, вероятно, собирают только за счет одной из ранее описанных категорий, поэтому по частоте схожи, ну а картины с рейтингом G требуют сверхосторожности создателей и не вызывают интереса у людей старше 12-13 лет, потому и встречаются редко."
   ]
  },
  {
   "cell_type": "code",
   "execution_count": 57,
   "id": "6d01c396-f7b1-4e9a-90a6-236f9dd35d67",
   "metadata": {},
   "outputs": [
    {
     "data": {
      "text/plain": [
       "<Axes: title={'center': 'Рис.4 Взаимосвязь между производственным бюджетом фильма и его мировыми сборами'}, xlabel='Производственный бюджет', ylabel='Сборы в мировом прокате'>"
      ]
     },
     "execution_count": 57,
     "metadata": {},
     "output_type": "execute_result"
    },
    {
     "data": {
      "image/png": "[encoded data removed]",
      "text/plain": [
       "<Figure size 640x480 with 1 Axes>"
      ]
     },
     "metadata": {},
     "output_type": "display_data"
    }
   ],
   "source": [
    "df6.plot(kind=\"scatter\", x=\"fillna_bud\", y=\"World Wide Sales (in $)\", xlabel = \"Производственный бюджет\", ylabel=\"Сборы в мировом прокате\", title=\"Рис.4 Взаимосвязь между производственным бюджетом фильма и его мировыми сборами\")"
   ]
  },
  {
   "cell_type": "markdown",
   "id": "0e5b0b50-1eb6-4b79-a210-04faa4bbb574",
   "metadata": {},
   "source": [
    "Построим облако рассеивания, отображающее взаимосвязь между бюджетом фильма и его итоговыми мировыми сборами. Заметим, что одному значению по X часто соответствуют несколько значений по Y, а также линейный тренд визуально неочевиден. Эти факты говорят о слабой корреляции/связи признаков."
   ]
  },
  {
   "cell_type": "code",
   "execution_count": 59,
   "id": "f0acedd4-8dac-476b-aa57-6e9a128d8b8f",
   "metadata": {},
   "outputs": [
    {
     "data": {
      "text/plain": [
       "<Axes: title={'center': 'Рис.5 Топ-10 дистрибьюторов по количеству кассовых фильмов'}, xlabel='fillna_Distributor', ylabel='Количество фильмов студии среди самых кассовых'>"
      ]
     },
     "execution_count": 59,
     "metadata": {},
     "output_type": "execute_result"
    },
    {
     "data": {
      "image/png": "[encoded data removed]",
      "text/plain": [
       "<Figure size 640x480 with 1 Axes>"
      ]
     },
     "metadata": {},
     "output_type": "display_data"
    }
   ],
   "source": [
    "df6[\"fillna_Distributor\"].value_counts().sort_values(ascending=False).head(10).plot(kind=\"bar\", ylabel=\"Количество фильмов студии среди самых кассовых\",   color=\"maroon\", title=\"Рис.5 Топ-10 дистрибьюторов по количеству кассовых фильмов\")"
   ]
  },
  {
   "cell_type": "markdown",
   "id": "ba74d8b4-a328-43ab-9c49-67d23d767e77",
   "metadata": {},
   "source": [
    "По столбчатой диаграмме виден значительный отрыв по количеству коммерчески успешных фильмов первых 6 компаний-дистрибьюторов от оставшихся 4. Более того, лидер Warner Bros. имеет заметный отрыв от второго места (Universal Pictures). Заметим, что обладающая правами на огромное количество франшиз компания Disney в списке не вошла в тройку, а вот 20th Century Fox, недавно ставшая ее подразделением, получает бронзу. А главное, даже по первым 10 значениям видно, что разброс частот этого признака сильно варьируется"
   ]
  },
  {
   "cell_type": "markdown",
   "id": "b4221df3",
   "metadata": {},
   "source": [
    "# К/Т 3\n",
    "\n",
    "Теперь создадим новый DataFrame, из которого удалим колонки с пропусками:"
   ]
  },
  {
   "cell_type": "code",
   "execution_count": 62,
   "id": "beeb0774",
   "metadata": {},
   "outputs": [],
   "source": [
    "df7 = df6.drop(columns = ['Distributor', 'License', 'Domestic Opening (in $)', 'Budget (in $)'])\n",
    "df_checker = df7.copy() # Этот DataFrame пригодится нам далее, при обработке данных для обучения"
   ]
  },
  {
   "cell_type": "code",
   "execution_count": 63,
   "id": "1578fe0f",
   "metadata": {},
   "outputs": [
    {
     "name": "stdout",
     "output_type": "stream",
     "text": [
      "<class 'pandas.core.frame.DataFrame'>\n",
      "Index: 771 entries, 157 to 999\n",
      "Data columns (total 13 columns):\n",
      " #   Column                      Non-Null Count  Dtype  \n",
      "---  ------                      --------------  -----  \n",
      " 0   Title                       771 non-null    object \n",
      " 1   Movie Info                  771 non-null    object \n",
      " 2   Year                        771 non-null    int64  \n",
      " 3   Domestic Sales (in $)       771 non-null    int64  \n",
      " 4   International Sales (in $)  771 non-null    int64  \n",
      " 5   World Wide Sales (in $)     771 non-null    int64  \n",
      " 6   Release Date                771 non-null    object \n",
      " 7   Genre                       771 non-null    object \n",
      " 8   Running Time                771 non-null    object \n",
      " 9   fillna_Distributor          771 non-null    object \n",
      " 10  fillna_License              771 non-null    object \n",
      " 11  fillna_domopen              771 non-null    float64\n",
      " 12  fillna_bud                  771 non-null    float64\n",
      "dtypes: float64(2), int64(4), object(7)\n",
      "memory usage: 84.3+ KB\n"
     ]
    }
   ],
   "source": [
    "df7.info()"
   ]
  },
  {
   "cell_type": "markdown",
   "id": "784df4dd",
   "metadata": {},
   "source": [
    "При построении корреляционной матрицы мы решили не учитывать признак 'Year', так как он является дискретным признаком, указывающим на год выхода фильма. Интерпретация его корреляции, например с бюджетом, будет бессмысленной, так как потенциальный рост/падение сборов с увеличением года у самых успешных фильмов вряд ли скажет что-то об общем состоянии индустрии или явных тенденциях, ведь в наш датасет не вошли фильмы с большими бюджетами и низкими сборами.\n",
    "\n",
    "Также этот признак точно не будет использован при построении модели, ведь его значения придется строго ограничивать. Во-первых, признак дискретный, во-вторых, мы не сможем брать год раньше текущего для максимизации сборов, если окажется, что фильм с более ранней датой выхода обычно более успешен в прокате, и в третьих, если более поздние картины в среднем более успешные, сдвигать дату релиза фильма на целые годы для потенциального увеличения сборов тоже будет очень странным решением в реалиях кинобизнеса."
   ]
  },
  {
   "cell_type": "code",
   "execution_count": 65,
   "id": "b8b85ffc",
   "metadata": {},
   "outputs": [
    {
     "data": {
      "text/html": [
       "<div>\n",
       "<style scoped>\n",
       "    .dataframe tbody tr th:only-of-type {\n",
       "        vertical-align: middle;\n",
       "    }\n",
       "\n",
       "    .dataframe tbody tr th {\n",
       "        vertical-align: top;\n",
       "    }\n",
       "\n",
       "    .dataframe thead th {\n",
       "        text-align: right;\n",
       "    }\n",
       "</style>\n",
       "<table border=\"1\" class=\"dataframe\">\n",
       "  <thead>\n",
       "    <tr style=\"text-align: right;\">\n",
       "      <th></th>\n",
       "      <th>Domestic Sales (in $)</th>\n",
       "      <th>International Sales (in $)</th>\n",
       "      <th>World Wide Sales (in $)</th>\n",
       "      <th>fillna_domopen</th>\n",
       "      <th>fillna_bud</th>\n",
       "    </tr>\n",
       "  </thead>\n",
       "  <tbody>\n",
       "    <tr>\n",
       "      <th>Domestic Sales (in $)</th>\n",
       "      <td>1.000000</td>\n",
       "      <td>0.132117</td>\n",
       "      <td>0.581435</td>\n",
       "      <td>0.523692</td>\n",
       "      <td>-0.001209</td>\n",
       "    </tr>\n",
       "    <tr>\n",
       "      <th>International Sales (in $)</th>\n",
       "      <td>0.132117</td>\n",
       "      <td>1.000000</td>\n",
       "      <td>0.830678</td>\n",
       "      <td>0.180119</td>\n",
       "      <td>0.366952</td>\n",
       "    </tr>\n",
       "    <tr>\n",
       "      <th>World Wide Sales (in $)</th>\n",
       "      <td>0.581435</td>\n",
       "      <td>0.830678</td>\n",
       "      <td>1.000000</td>\n",
       "      <td>0.420249</td>\n",
       "      <td>0.302973</td>\n",
       "    </tr>\n",
       "    <tr>\n",
       "      <th>fillna_domopen</th>\n",
       "      <td>0.523692</td>\n",
       "      <td>0.180119</td>\n",
       "      <td>0.420249</td>\n",
       "      <td>1.000000</td>\n",
       "      <td>0.293423</td>\n",
       "    </tr>\n",
       "    <tr>\n",
       "      <th>fillna_bud</th>\n",
       "      <td>-0.001209</td>\n",
       "      <td>0.366952</td>\n",
       "      <td>0.302973</td>\n",
       "      <td>0.293423</td>\n",
       "      <td>1.000000</td>\n",
       "    </tr>\n",
       "  </tbody>\n",
       "</table>\n",
       "</div>"
      ],
      "text/plain": [
       "                            Domestic Sales (in $)  International Sales (in $)  \\\n",
       "Domestic Sales (in $)                    1.000000                    0.132117   \n",
       "International Sales (in $)               0.132117                    1.000000   \n",
       "World Wide Sales (in $)                  0.581435                    0.830678   \n",
       "fillna_domopen                           0.523692                    0.180119   \n",
       "fillna_bud                              -0.001209                    0.366952   \n",
       "\n",
       "                            World Wide Sales (in $)  fillna_domopen  \\\n",
       "Domestic Sales (in $)                      0.581435        0.523692   \n",
       "International Sales (in $)                 0.830678        0.180119   \n",
       "World Wide Sales (in $)                    1.000000        0.420249   \n",
       "fillna_domopen                             0.420249        1.000000   \n",
       "fillna_bud                                 0.302973        0.293423   \n",
       "\n",
       "                            fillna_bud  \n",
       "Domestic Sales (in $)        -0.001209  \n",
       "International Sales (in $)    0.366952  \n",
       "World Wide Sales (in $)       0.302973  \n",
       "fillna_domopen                0.293423  \n",
       "fillna_bud                    1.000000  "
      ]
     },
     "execution_count": 65,
     "metadata": {},
     "output_type": "execute_result"
    }
   ],
   "source": [
    "df7.corr(numeric_only=True).drop(index=['Year'], columns = ['Year'])"
   ]
  },
  {
   "cell_type": "markdown",
   "id": "3fb0e3ee",
   "metadata": {},
   "source": [
    "Построив корреляционную матрицу, можно сделать вывод о том, у каких признаков наблюдается наиболее сильная корреляция. Это признаки 'World Wide Sales in dollars' и 'International Sales in dollars'. Это объясняется тем, что  'World Wide Sales (in dollars)' (сборы во всем мире)- это сумма 'International Sales' (сборы за пределами США) и 'Domestic Sales' (сборы в США). При этом коэффициент корреляции между 'World Wide Sales (in dollars)' и 'Internation Sales (in dollars)' меньше единицы из-за низкой корреляции между 'Domestic Sales (in dollars)' и 'Internationl Sales (in dollars)'. \n",
    "\n",
    "То есть, между собой сборы В США и суммарные сборы во всех остальных странах слабо коррелируют, и полностью предсказать их сумму только по 'Internationl Sales (in dollars)' вряд ли получится, несмотря на то, что в большинстве случаев сборы за рубежом занимают бОльшую долю в совокупных сборах фильма"
   ]
  },
  {
   "cell_type": "code",
   "execution_count": 67,
   "id": "cc6dd6f0",
   "metadata": {},
   "outputs": [
    {
     "data": {
      "text/plain": [
       "<Axes: title={'center': 'Рис. 6 Диаграмма Рассеивания между мировыми сборами фильма и сборами вне США'}, xlabel='International Sales (in $)', ylabel='World Wide Sales (in $)'>"
      ]
     },
     "execution_count": 67,
     "metadata": {},
     "output_type": "execute_result"
    },
    {
     "data": {
      "image/png": "[encoded data removed]",
      "text/plain": [
       "<Figure size 640x480 with 1 Axes>"
      ]
     },
     "metadata": {},
     "output_type": "display_data"
    }
   ],
   "source": [
    "df7.plot.scatter(x = 'International Sales (in $)', y = 'World Wide Sales (in $)', title='Рис. 6 Диаграмма Рассеивания между мировыми сборами фильма и сборами вне США', color='maroon')\n"
   ]
  },
  {
   "cell_type": "markdown",
   "id": "56331c5d-2d11-40ed-b6ea-c838a7b878b3",
   "metadata": {},
   "source": [
    "По диаграмме рассеивания отчетливо видна прямая линейная связь между сборами фильма за пределами США и общими сборами фильма, а значит коэффициент корреляции действительно высок"
   ]
  },
  {
   "cell_type": "markdown",
   "id": "595f403a",
   "metadata": {},
   "source": [
    "Теперь мы построим линейную регрессию, предсказывающую совокупыне сборы фильмов по миру в зависимости от начального бюджета ('Budget'), типа лицензии (возрастной рейтинг) ('License') и сборы в первые выходные ('Domestic Open').\n",
    "\n",
    "Используем именно это признаки, потому что мы моделируем ситуацию, что фильм находится в прокате только пару дней или один уикенд (то есть Domestic Open уже произошел, и значения стартовых сборов известны), мы знаем аудиторию, которая потенциально может на него пойти (к примеру, от фильма с лицензией на показ только лицам старше 18 лет мы будем ждать меньших сборов,нежели для фильма с ограничением 6+), и знаем, каковы вложения в производство фильма.\n",
    "\n",
    "Такая задача часто имеет место у дистрибьюторов фильмов, когда они решают, что выгоднее: оставить фильм в кинотеатре на подольше в связи с хорошим стартом или изъять из кинотеатров для выпуска на стриминге в случае плохих показателей."
   ]
  },
  {
   "cell_type": "markdown",
   "id": "82c693c1",
   "metadata": {},
   "source": [
    "Для начала преобразуем категориальный признак ('License') по one-hot encoding, чтобы мы могли его применить в регрессионном анализе."
   ]
  },
  {
   "cell_type": "code",
   "execution_count": 71,
   "id": "4dfa6d38",
   "metadata": {},
   "outputs": [],
   "source": [
    "from sklearn.model_selection import train_test_split\n",
    "from sklearn.ensemble import RandomForestRegressor\n",
    "from sklearn.metrics import mean_squared_error as MSE, mean_absolute_error as MAE, r2_score as R2\n",
    "from sklearn.preprocessing import OneHotEncoder\n",
    "from sklearn.linear_model import LinearRegression"
   ]
  },
  {
   "cell_type": "code",
   "execution_count": 72,
   "id": "8336f67c",
   "metadata": {},
   "outputs": [
    {
     "data": {
      "text/html": [
       "<div>\n",
       "<style scoped>\n",
       "    .dataframe tbody tr th:only-of-type {\n",
       "        vertical-align: middle;\n",
       "    }\n",
       "\n",
       "    .dataframe tbody tr th {\n",
       "        vertical-align: top;\n",
       "    }\n",
       "\n",
       "    .dataframe thead th {\n",
       "        text-align: right;\n",
       "    }\n",
       "</style>\n",
       "<table border=\"1\" class=\"dataframe\">\n",
       "  <thead>\n",
       "    <tr style=\"text-align: right;\">\n",
       "      <th></th>\n",
       "      <th>Title</th>\n",
       "      <th>Movie Info</th>\n",
       "      <th>Year</th>\n",
       "      <th>Domestic Sales (in $)</th>\n",
       "      <th>International Sales (in $)</th>\n",
       "      <th>World Wide Sales (in $)</th>\n",
       "      <th>Release Date</th>\n",
       "      <th>Genre</th>\n",
       "      <th>Running Time</th>\n",
       "      <th>fillna_Distributor</th>\n",
       "      <th>fillna_License</th>\n",
       "      <th>fillna_domopen</th>\n",
       "      <th>fillna_bud</th>\n",
       "    </tr>\n",
       "  </thead>\n",
       "  <tbody>\n",
       "    <tr>\n",
       "      <th>157</th>\n",
       "      <td>Big Hero 6</td>\n",
       "      <td>A special bond develops between plus-sized inf...</td>\n",
       "      <td>2014</td>\n",
       "      <td>222527828</td>\n",
       "      <td>435341858</td>\n",
       "      <td>657869686</td>\n",
       "      <td>25-Oct-14</td>\n",
       "      <td>['Action', 'Adventure', 'Animation', 'Comedy',...</td>\n",
       "      <td>1 hr 42 min</td>\n",
       "      <td>Walt Disney Studios Motion Pictures</td>\n",
       "      <td>PG</td>\n",
       "      <td>56215889.0</td>\n",
       "      <td>165000000.0</td>\n",
       "    </tr>\n",
       "    <tr>\n",
       "      <th>159</th>\n",
       "      <td>Pirates of the Caribbean: The Curse of the Bla...</td>\n",
       "      <td>Blacksmith Will Turner teams up with eccentric...</td>\n",
       "      <td>2003</td>\n",
       "      <td>305413918</td>\n",
       "      <td>348850097</td>\n",
       "      <td>654264015</td>\n",
       "      <td>9-Jul-03</td>\n",
       "      <td>['Action', 'Adventure', 'Fantasy']</td>\n",
       "      <td>2 hr 23 min</td>\n",
       "      <td>Walt Disney Studios Motion Pictures</td>\n",
       "      <td>PG-13</td>\n",
       "      <td>46630690.0</td>\n",
       "      <td>140000000.0</td>\n",
       "    </tr>\n",
       "    <tr>\n",
       "      <th>164</th>\n",
       "      <td>Sing</td>\n",
       "      <td>In a city of humanoid animals, a hustling thea...</td>\n",
       "      <td>2016</td>\n",
       "      <td>270578425</td>\n",
       "      <td>363759959</td>\n",
       "      <td>634338384</td>\n",
       "      <td>2-Dec-16</td>\n",
       "      <td>['Animation', 'Comedy', 'Family', 'Musical']</td>\n",
       "      <td>1 hr 48 min</td>\n",
       "      <td>Universal Pictures</td>\n",
       "      <td>PG</td>\n",
       "      <td>35258145.0</td>\n",
       "      <td>75000000.0</td>\n",
       "    </tr>\n",
       "    <tr>\n",
       "      <th>165</th>\n",
       "      <td>Kung Fu Panda</td>\n",
       "      <td>To everyone's surprise, including his own, Po,...</td>\n",
       "      <td>2008</td>\n",
       "      <td>215771591</td>\n",
       "      <td>416311606</td>\n",
       "      <td>632083197</td>\n",
       "      <td>5-Jun-08</td>\n",
       "      <td>['Action', 'Adventure', 'Animation', 'Comedy',...</td>\n",
       "      <td>1 hr 32 min</td>\n",
       "      <td>DreamWorks</td>\n",
       "      <td>PG</td>\n",
       "      <td>60239130.0</td>\n",
       "      <td>130000000.0</td>\n",
       "    </tr>\n",
       "    <tr>\n",
       "      <th>166</th>\n",
       "      <td>The Incredibles</td>\n",
       "      <td>While trying to lead a quiet suburban life, a ...</td>\n",
       "      <td>2004</td>\n",
       "      <td>261441092</td>\n",
       "      <td>370165961</td>\n",
       "      <td>631607053</td>\n",
       "      <td>5-Nov-04</td>\n",
       "      <td>['Action', 'Adventure', 'Animation', 'Family']</td>\n",
       "      <td>1 hr 55 min</td>\n",
       "      <td>Walt Disney Studios Motion Pictures</td>\n",
       "      <td>PG</td>\n",
       "      <td>70467623.0</td>\n",
       "      <td>92000000.0</td>\n",
       "    </tr>\n",
       "  </tbody>\n",
       "</table>\n",
       "</div>"
      ],
      "text/plain": [
       "                                                 Title  \\\n",
       "157                                         Big Hero 6   \n",
       "159  Pirates of the Caribbean: The Curse of the Bla...   \n",
       "164                                               Sing   \n",
       "165                                      Kung Fu Panda   \n",
       "166                                    The Incredibles   \n",
       "\n",
       "                                            Movie Info  Year  \\\n",
       "157  A special bond develops between plus-sized inf...  2014   \n",
       "159  Blacksmith Will Turner teams up with eccentric...  2003   \n",
       "164  In a city of humanoid animals, a hustling thea...  2016   \n",
       "165  To everyone's surprise, including his own, Po,...  2008   \n",
       "166  While trying to lead a quiet suburban life, a ...  2004   \n",
       "\n",
       "     Domestic Sales (in $)  International Sales (in $)  \\\n",
       "157              222527828                   435341858   \n",
       "159              305413918                   348850097   \n",
       "164              270578425                   363759959   \n",
       "165              215771591                   416311606   \n",
       "166              261441092                   370165961   \n",
       "\n",
       "     World Wide Sales (in $) Release Date  \\\n",
       "157                657869686    25-Oct-14   \n",
       "159                654264015     9-Jul-03   \n",
       "164                634338384     2-Dec-16   \n",
       "165                632083197     5-Jun-08   \n",
       "166                631607053     5-Nov-04   \n",
       "\n",
       "                                                 Genre Running Time  \\\n",
       "157  ['Action', 'Adventure', 'Animation', 'Comedy',...  1 hr 42 min   \n",
       "159                 ['Action', 'Adventure', 'Fantasy']  2 hr 23 min   \n",
       "164       ['Animation', 'Comedy', 'Family', 'Musical']  1 hr 48 min   \n",
       "165  ['Action', 'Adventure', 'Animation', 'Comedy',...  1 hr 32 min   \n",
       "166     ['Action', 'Adventure', 'Animation', 'Family']  1 hr 55 min   \n",
       "\n",
       "                      fillna_Distributor fillna_License  fillna_domopen  \\\n",
       "157  Walt Disney Studios Motion Pictures             PG      56215889.0   \n",
       "159  Walt Disney Studios Motion Pictures          PG-13      46630690.0   \n",
       "164                   Universal Pictures             PG      35258145.0   \n",
       "165                           DreamWorks             PG      60239130.0   \n",
       "166  Walt Disney Studios Motion Pictures             PG      70467623.0   \n",
       "\n",
       "      fillna_bud  \n",
       "157  165000000.0  \n",
       "159  140000000.0  \n",
       "164   75000000.0  \n",
       "165  130000000.0  \n",
       "166   92000000.0  "
      ]
     },
     "execution_count": 72,
     "metadata": {},
     "output_type": "execute_result"
    }
   ],
   "source": [
    "df7.head()"
   ]
  },
  {
   "cell_type": "code",
   "execution_count": 73,
   "id": "24a8c239",
   "metadata": {},
   "outputs": [],
   "source": [
    "encoder = OneHotEncoder(sparse_output=False)\n",
    "license_encoded = encoder.fit_transform(df7[['fillna_License']])\n",
    "license_encoded_df = pd.DataFrame(license_encoded, columns=encoder.get_feature_names_out(['fillna_License']))\n",
    "df7 = pd.concat([df7.drop(columns=['fillna_License']).reset_index(drop=True), license_encoded_df.reset_index(drop=True)], axis=1)"
   ]
  },
  {
   "cell_type": "markdown",
   "id": "586806fb",
   "metadata": {},
   "source": [
    "А теперь давайте приступим к построению линейной регрессии"
   ]
  },
  {
   "cell_type": "code",
   "execution_count": 75,
   "id": "abd01aee",
   "metadata": {},
   "outputs": [],
   "source": [
    "X = df7[['fillna_bud', 'fillna_License_G', 'fillna_License_PG','fillna_License_PG-13','fillna_License_R','fillna_domopen']] #собственно после кодирования количество независимых переменных увеличилось, ведь License теперь стала 4 колонками, в каждой из которых отдельный вид лицензии \n",
    "y = df7[['World Wide Sales (in $)']]\n",
    "X_train, X_test, y_train, y_test = train_test_split(X, y, test_size=0.2 , random_state=42)"
   ]
  },
  {
   "cell_type": "code",
   "execution_count": 76,
   "id": "63437066",
   "metadata": {},
   "outputs": [],
   "source": [
    "model = LinearRegression().fit(X_train,y_train)\n",
    "y_test_pred = model.predict(X_test)"
   ]
  },
  {
   "cell_type": "markdown",
   "id": "7427a35f",
   "metadata": {},
   "source": [
    "Коэффициенты регрессии при независимых переменных:"
   ]
  },
  {
   "cell_type": "code",
   "execution_count": 78,
   "id": "fccec2ff",
   "metadata": {},
   "outputs": [
    {
     "data": {
      "text/html": [
       "<div>\n",
       "<style scoped>\n",
       "    .dataframe tbody tr th:only-of-type {\n",
       "        vertical-align: middle;\n",
       "    }\n",
       "\n",
       "    .dataframe tbody tr th {\n",
       "        vertical-align: top;\n",
       "    }\n",
       "\n",
       "    .dataframe thead th {\n",
       "        text-align: right;\n",
       "    }\n",
       "</style>\n",
       "<table border=\"1\" class=\"dataframe\">\n",
       "  <thead>\n",
       "    <tr style=\"text-align: right;\">\n",
       "      <th></th>\n",
       "      <th>0</th>\n",
       "    </tr>\n",
       "  </thead>\n",
       "  <tbody>\n",
       "    <tr>\n",
       "      <th>fillna_bud</th>\n",
       "      <td>0.60</td>\n",
       "    </tr>\n",
       "    <tr>\n",
       "      <th>fillna_License_G</th>\n",
       "      <td>93464866.20</td>\n",
       "    </tr>\n",
       "    <tr>\n",
       "      <th>fillna_License_PG</th>\n",
       "      <td>-19460183.75</td>\n",
       "    </tr>\n",
       "    <tr>\n",
       "      <th>fillna_License_PG-13</th>\n",
       "      <td>-33347287.20</td>\n",
       "    </tr>\n",
       "    <tr>\n",
       "      <th>fillna_License_R</th>\n",
       "      <td>-40657395.25</td>\n",
       "    </tr>\n",
       "    <tr>\n",
       "      <th>fillna_domopen</th>\n",
       "      <td>2.29</td>\n",
       "    </tr>\n",
       "  </tbody>\n",
       "</table>\n",
       "</div>"
      ],
      "text/plain": [
       "                                0\n",
       "fillna_bud                   0.60\n",
       "fillna_License_G      93464866.20\n",
       "fillna_License_PG    -19460183.75\n",
       "fillna_License_PG-13 -33347287.20\n",
       "fillna_License_R     -40657395.25\n",
       "fillna_domopen               2.29"
      ]
     },
     "execution_count": 78,
     "metadata": {},
     "output_type": "execute_result"
    }
   ],
   "source": [
    "pd.DataFrame(model.coef_[0], index=model.feature_names_in_).round(2)"
   ]
  },
  {
   "cell_type": "markdown",
   "id": "3d2797b4",
   "metadata": {},
   "source": [
    "Интерпретации коэффициентов:\n",
    "\n",
    "- При увеличении производственного бюджета на 1 доллар, его мировые сборы увеличатся на 0.6 долларов\n",
    "- При увеличении сборов в США в первый уикенд на 1 доллар, его мировые сборы увеличатся на 2.29 доллара\n",
    "Так как фильму может быть присвоена только одна лицензия из четырёх, то:\n",
    "- Наличие у фильма лицензии G (т.е 0+) увеличит ранее найденную взвешенную сумму свободного коэффициента и значений fillna_domopen и fillna_bud на 93464866.21 долларов\n",
    "- Наличие у фильма лицензии PG (т.е 0+, но самым маленьким можно только в сопровождении взрослых) уменьшит ранее найденную взвешенную сумму свободного коэффициента и значений fillna_domopen и fillna_bud на 19460183.76 долларов\n",
    "- Наличие у фильма лицензии PG-13 (т.е 13+) уменьшит ранее найденную взвешенную сумму свободного коэффициента и значений fillna_domopen и fillna_bud на 33347287.21 долларов\n",
    "- Наличие у фильма лицензии R (т.е 18+) уменьшит ранее найденную взвешенную сумму свободного коэффициента и значений fillna_domopen и fillna_bud на 40657395.25 долларов"
   ]
  },
  {
   "cell_type": "markdown",
   "id": "3ac5c0a8",
   "metadata": {},
   "source": [
    "Свободный коэффициент:"
   ]
  },
  {
   "cell_type": "code",
   "execution_count": 81,
   "id": "700f5472",
   "metadata": {},
   "outputs": [
    {
     "data": {
      "text/plain": [
       "219495527.44774336"
      ]
     },
     "execution_count": 81,
     "metadata": {},
     "output_type": "execute_result"
    }
   ],
   "source": [
    "model.intercept_[0]"
   ]
  },
  {
   "cell_type": "markdown",
   "id": "3d5ecc9a-484b-474b-8261-9bf254f45528",
   "metadata": {},
   "source": [
    "Обычно свободный коэффициент - это значение, которое мы получим от модели при равенстве всех независимых переменных нулю,\n",
    "но в нашем случае это не так, ведь у фильма точно будет одна из лицензий, а значит одна из свободных переменных точно равна 1.\n",
    "Поэтому явно интерпретировать константу здесь сложно."
   ]
  },
  {
   "cell_type": "markdown",
   "id": "6f155f75",
   "metadata": {},
   "source": [
    "Теперь оценим качество модели:"
   ]
  },
  {
   "cell_type": "code",
   "execution_count": 84,
   "id": "23cbec5e",
   "metadata": {},
   "outputs": [
    {
     "name": "stdout",
     "output_type": "stream",
     "text": [
      "MSE(y_test, y_test_pred) = 11694907944881384.00\n",
      "MAE(y_test_pred, y_test) = 84876660.87\n",
      "R2(y_test, y_test_pred) = 0.01\n"
     ]
    }
   ],
   "source": [
    "print(f'{MSE(y_test, y_test_pred) = :.2f}')\n",
    "print(f'{MAE(y_test_pred, y_test) = :.2f}')\n",
    "print(f'{R2(y_test, y_test_pred) = :.2f}')"
   ]
  },
  {
   "cell_type": "markdown",
   "id": "69708d78",
   "metadata": {},
   "source": [
    "Качество модели низкое, о чем говорят  значения MSE, MAE и R2. \n",
    "\n",
    "Значение R2 в идеале должно быть равно 1, однако же у нас оно близко к нулю, то есть коэффициент детерминации показывает, что наша модель объясняет только 1% изменчивости мировых кассовых сборов. \n",
    "\n",
    "Значение MAE в 84876660.82 - это среднее абсолютное отклонение прогнозных значений от фактических, т.е в среднем наш прогноз отличается\n",
    "от истины на 84,8 млн.$. Это очень серьезная ошибка для многих фильмов в нашем датасете, хотя для фильмов-миллиардников она и не так критична.\n",
    "\n",
    "Значение MSE в 11694907921236992.00 - это средний квадрат отклонения значений модели от реальных, оно закономерно выше MAE, ведь сильнее штрафует за сильные отклонения от реальных результатов. Значение получилось 17-тизначное, и даже с поправкой на то, что это квадрат,\n",
    "оно иллюстрирует катастрофически низкую точность итоговой модели"
   ]
  },
  {
   "cell_type": "markdown",
   "id": "4db9de8f",
   "metadata": {},
   "source": [
    "Теперь попробуем построить нелинейную модель машинного обучения, случайный лес, по тем же данным, чтобы оценить, справится ли она лучше, чем обычная линейная регрессия.\n",
    "\n",
    "Так как случайный лес строится на объединении множества деревьев решений, использует подвыборки и является более устойчивым к шуму, он может дать более точный прогноз для наших данных."
   ]
  },
  {
   "cell_type": "code",
   "execution_count": 87,
   "id": "689da449",
   "metadata": {},
   "outputs": [],
   "source": [
    "A = df7[['fillna_bud', 'fillna_License_G', 'fillna_License_PG','fillna_License_PG-13','fillna_License_R','fillna_domopen']]\n",
    "b = df7[['World Wide Sales (in $)']]\n",
    "A_train, A_test, b_train, b_test = train_test_split(A, b, test_size=0.2 , random_state=42)"
   ]
  },
  {
   "cell_type": "code",
   "execution_count": 88,
   "id": "4b144f00",
   "metadata": {},
   "outputs": [
    {
     "name": "stderr",
     "output_type": "stream",
     "text": [
      "C:\\Users\\79199\\anaconda3\\Lib\\site-packages\\sklearn\\base.py:1151: DataConversionWarning: A column-vector y was passed when a 1d array was expected. Please change the shape of y to (n_samples,), for example using ravel().\n",
      "  return fit_method(estimator, *args, **kwargs)\n"
     ]
    }
   ],
   "source": [
    "model_forest = RandomForestRegressor(n_estimators=100, random_state=42)\n",
    "model_forest.fit(A_train, b_train)\n",
    "b_test_pred = model_forest.predict(A_test)"
   ]
  },
  {
   "cell_type": "markdown",
   "id": "6a42c4eb",
   "metadata": {},
   "source": [
    "Теперь оценим качество нелинейной модели:"
   ]
  },
  {
   "cell_type": "code",
   "execution_count": 90,
   "id": "e18bdc38",
   "metadata": {},
   "outputs": [
    {
     "name": "stdout",
     "output_type": "stream",
     "text": [
      "MSE(b_test, b_test_pred) = 10888284370253226.00\n",
      "MAE(b_test_pred, b_test) = 79384087.77\n",
      "R2(b_test, b_test_pred) = 0.07\n"
     ]
    }
   ],
   "source": [
    "print(f'{MSE(b_test, b_test_pred) = :.2f}')\n",
    "print(f'{MAE(b_test_pred, b_test) = :.2f}')\n",
    "print(f'{R2(b_test, b_test_pred) = :.2f}')"
   ]
  },
  {
   "cell_type": "markdown",
   "id": "584ac556-990d-4114-8520-6feaa2d16af1",
   "metadata": {},
   "source": [
    "Действительно, случайный лес сделал нашу модель более точной, об этом говорят рост R2 и снижение MAE,MSE,\n",
    "однако она всё ещё далека от приемлемого уровня качества.\n",
    "\n",
    "Согласно коэффициенту детерминации R2, наша модель теперь описывает 7% изменчивости мировых кассовых сборов (против 1% в линейной модели).\n",
    "\n",
    "Среднее абсолютное отклонение MAE теперь составляет примерно 79,4 млн.долларов, то есть прогнозируемые значения стали ближе к фактическим (прошлое значение = 84,8 млн.долларов).\n"
   ]
  },
  {
   "cell_type": "markdown",
   "id": "4ca474da-91a2-48b9-987d-4a01a2084d03",
   "metadata": {},
   "source": [
    "Нелинейные модели имеют разные преимущества над линейными. Во-первых, они способны корректно описывать более сложные \n",
    "зависимости (полиномиальные, гиперболичесике), часто встречающиеся в реальных данных, но неподходящие для линейных моделей.\n",
    "\n",
    "Во-вторых, некоторые нелинейные модели (например, деревья решений) не требуют дополнительного кодирования данных\n",
    "и спокойно работают как с числовыми, так и с категориальными признаками, тогда как перед обучением линейной модели\n",
    "нужно провести тщательную подготовку датасета.\n",
    "\n",
    "В-третьих, зачастую нелинейные модели устойчивы к выбросам и аномальным значениям, тогда как выбросы в линейной модели способны сильно повлиять\n",
    "на получившееся уравнение прямой.\n",
    "\n",
    "В то же время, нелинейные модели аналитикам сложнее интерпретировать,\n",
    "да и вычисления в них более затратные для компьютера, так что и минусы у таких моделей по сравнению с линейными есть."
   ]
  },
  {
   "cell_type": "markdown",
   "id": "76caf8d1-5343-452a-9a90-4cf605c4fc5e",
   "metadata": {},
   "source": [
    "### Контрольная точка 4"
   ]
  },
  {
   "cell_type": "markdown",
   "id": "ce22d2e7",
   "metadata": {},
   "source": [
    "### Построение доверительного интервала для математического ожидания на основании Z-статистики"
   ]
  },
  {
   "cell_type": "code",
   "execution_count": 124,
   "id": "51a7d0c6-5e27-403c-8323-66fe2f42dcf3",
   "metadata": {},
   "outputs": [],
   "source": [
    "df8 = df6.drop(columns = ['License', 'Distributor','Domestic Opening (in $)', 'Budget (in $)'])"
   ]
  },
  {
   "cell_type": "code",
   "execution_count": 125,
   "id": "3445f50d-a741-43bc-820e-ef8fced7e8c1",
   "metadata": {},
   "outputs": [],
   "source": [
    "# Получим случайную выборку из 100 строк\n",
    "sample_df = df8.sample(n=100, random_state=42)\n"
   ]
  },
  {
   "cell_type": "code",
   "execution_count": 126,
   "id": "9f5c62d1-17c9-4fc0-a727-0cba4a891b56",
   "metadata": {},
   "outputs": [],
   "source": [
    "std_wws = df8[\"World Wide Sales (in $)\"].std()\n",
    "mean_wws = sample_df[\"World Wide Sales (in $)\"].mean()\n",
    "alpha = 1 - 0.95\n",
    "n = sample_df.shape[0]"
   ]
  },
  {
   "cell_type": "code",
   "execution_count": 127,
   "id": "e973b1c0-a273-46e0-b1cc-7fe400681245",
   "metadata": {},
   "outputs": [],
   "source": [
    "from scipy.stats import norm"
   ]
  },
  {
   "cell_type": "code",
   "execution_count": 128,
   "id": "2c9815a9-b639-4d95-9eb2-24838858a16c",
   "metadata": {},
   "outputs": [],
   "source": [
    "z_crit = norm.ppf(1 - alpha/2)  # для 95% ДИ alpha = 0.05\n",
    "lower = mean_wws - z_crit * (std_wws / np.sqrt(n))\n",
    "upper = mean_wws + z_crit * (std_wws / np.sqrt(n))"
   ]
  },
  {
   "cell_type": "code",
   "execution_count": 129,
   "id": "60828727-da26-4f2a-ae7f-2af6e3d4ef36",
   "metadata": {},
   "outputs": [
    {
     "data": {
      "text/plain": [
       "(282224525.6344464, 324538580.70555365)"
      ]
     },
     "execution_count": 129,
     "metadata": {},
     "output_type": "execute_result"
    }
   ],
   "source": [
    "lower, upper"
   ]
  },
  {
   "cell_type": "code",
   "execution_count": 130,
   "id": "653e8dc0-baa9-4456-af31-a4943bd37bc0",
   "metadata": {},
   "outputs": [
    {
     "data": {
      "text/plain": [
       "304168343.6757458"
      ]
     },
     "execution_count": 130,
     "metadata": {},
     "output_type": "execute_result"
    }
   ],
   "source": [
    "df8[\"World Wide Sales (in $)\"].mean()"
   ]
  },
  {
   "cell_type": "markdown",
   "id": "660ed736-09d5-433b-80c5-86669d3b0b82",
   "metadata": {},
   "source": [
    "**Вывод**: по итогу проделанных вычислений реальное среднее значение признака 'World Wide Sales (in $)' попало в интервал, посчитанный при помощи z-критерия: [282224525.6344464, 324538580.70555365], а реальное значение среднего - 304168343.6757458"
   ]
  },
  {
   "cell_type": "markdown",
   "id": "3438fd17",
   "metadata": {},
   "source": [
    "### Построение доверительного интервала для математического ожидания на основании t-статистики"
   ]
  },
  {
   "cell_type": "code",
   "execution_count": 133,
   "id": "15dae06b-8aa8-4bde-884c-863c46895b18",
   "metadata": {},
   "outputs": [],
   "source": [
    "sample_std = sample_df[\"World Wide Sales (in $)\"].std()"
   ]
  },
  {
   "cell_type": "code",
   "execution_count": 134,
   "id": "76d29119-610a-4763-b19b-47b85c4e5bb0",
   "metadata": {},
   "outputs": [],
   "source": [
    "from scipy.stats import ttest_1samp, ttest_ind, ttest_rel\n",
    "from scipy.stats import t"
   ]
  },
  {
   "cell_type": "code",
   "execution_count": 135,
   "id": "4451c14b-94d3-41ac-8a01-8b2f2daed6fe",
   "metadata": {},
   "outputs": [],
   "source": [
    "t_crit = t.ppf(1 - alpha/2, df=n-1)  # df - степени свободы\n",
    "lower2 = mean_wws - t_crit * (sample_std / np.sqrt(n))\n",
    "upper2 = mean_wws + t_crit * (sample_std / np.sqrt(n))"
   ]
  },
  {
   "cell_type": "code",
   "execution_count": 136,
   "id": "135c11e2-18dd-4692-a027-addbb38b8f95",
   "metadata": {},
   "outputs": [
    {
     "data": {
      "text/plain": [
       "(282234959.9356467, 324528146.4043533)"
      ]
     },
     "execution_count": 136,
     "metadata": {},
     "output_type": "execute_result"
    }
   ],
   "source": [
    "lower2, upper2"
   ]
  },
  {
   "cell_type": "code",
   "execution_count": 137,
   "id": "a39b5ed8-a12a-4e50-b48d-1cf0cb77991d",
   "metadata": {},
   "outputs": [
    {
     "data": {
      "text/plain": [
       "304168343.6757458"
      ]
     },
     "execution_count": 137,
     "metadata": {},
     "output_type": "execute_result"
    }
   ],
   "source": [
    "df8[\"World Wide Sales (in $)\"].mean()"
   ]
  },
  {
   "cell_type": "markdown",
   "id": "af54bf06-ff8f-4a39-a86c-40e73c5ca0c9",
   "metadata": {},
   "source": [
    "**Вывод**: по итогу проделанных вычислений реальное среднее значение признака 'World Wide Sales (in $)' попало в интервал, посчитанный при помощи t-критерия: [282234959.9356467, 324528146.4043533], а реальное значение среднего - 304168343.6757458"
   ]
  },
  {
   "cell_type": "markdown",
   "id": "e3073de3",
   "metadata": {},
   "source": [
    "### Проведение z-test на математическое ожидание"
   ]
  },
  {
   "cell_type": "markdown",
   "id": "eba1f2a9-1903-42a3-a257-f7c6aa9b11e2",
   "metadata": {},
   "source": [
    "Перейдем к составлению и проверке гипотез при помощи z-test.\n",
    "\n",
    "**Гипотеза**: фильмы из нашей случайной выборки имеют больший бюджет, чем фильмы из генеральной совокупности, если математическое ожидание их бюджета больше среднего значения бюджета по генеральной совокупности, т.е.:"
   ]
  },
  {
   "cell_type": "markdown",
   "id": "85f26d54",
   "metadata": {},
   "source": [
    "$$\n",
    "H_0 : \\mu \\leq \\bar{X}\n",
    "$$\n",
    "$$\n",
    "H_A : \\mu > \\bar{X}\n",
    "$$"
   ]
  },
  {
   "cell_type": "code",
   "execution_count": 143,
   "id": "bbb1e1f1",
   "metadata": {},
   "outputs": [],
   "source": [
    "from statsmodels.stats.weightstats import ztest"
   ]
  },
  {
   "cell_type": "code",
   "execution_count": 144,
   "id": "3396a745",
   "metadata": {},
   "outputs": [
    {
     "data": {
      "text/plain": [
       "(0.9058775974552176, 0.18250032154356655)"
      ]
     },
     "execution_count": 144,
     "metadata": {},
     "output_type": "execute_result"
    }
   ],
   "source": [
    "res = ztest(sample_df['fillna_bud'],\n",
    "            value = df8['fillna_bud'].mean(),\n",
    "            alternative='larger'        \n",
    "\n",
    ")\n",
    "res"
   ]
  },
  {
   "cell_type": "code",
   "execution_count": 145,
   "id": "fdb7f1f9",
   "metadata": {},
   "outputs": [
    {
     "data": {
      "text/plain": [
       "0.9058775974552176"
      ]
     },
     "execution_count": 145,
     "metadata": {},
     "output_type": "execute_result"
    }
   ],
   "source": [
    "statistic = res[0] #значение z-статистики\n",
    "statistic"
   ]
  },
  {
   "cell_type": "code",
   "execution_count": 146,
   "id": "1e02e5c6",
   "metadata": {},
   "outputs": [
    {
     "data": {
      "text/plain": [
       "0.183"
      ]
     },
     "execution_count": 146,
     "metadata": {},
     "output_type": "execute_result"
    }
   ],
   "source": [
    "p_value = res[1]\n",
    "round(p_value, 3)"
   ]
  },
  {
   "cell_type": "markdown",
   "id": "6fd8df0c",
   "metadata": {},
   "source": [
    "**Вывод:** по итогам тестирования гипотезы p-value=0.189. Это значит нулевая гипотеза\n",
    "- не отвергается на уровне значимости (α) 1%\n",
    "- не отвергается на уровне значимости (α) 5%\n",
    "- не отвергается на уровне значимости (α) 10%\n",
    "\n",
    "Из этого следует, что мы не можем утверждать, что фильмы из нашей случайной выборки имеют больший бюджет, чем фильмы из генеральной совокупности. Значит, наша гипотеза неверна"
   ]
  },
  {
   "cell_type": "markdown",
   "id": "d4e399cf",
   "metadata": {},
   "source": [
    "### Проведение t-test на математическое ожидание"
   ]
  },
  {
   "cell_type": "code",
   "execution_count": 149,
   "id": "1beaef4d",
   "metadata": {},
   "outputs": [],
   "source": [
    "from scipy.stats import ttest_1samp, ttest_ind, ttest_rel"
   ]
  },
  {
   "cell_type": "markdown",
   "id": "b7946fa0",
   "metadata": {},
   "source": [
    "Перейдем к составлению и проверке гипотез при помощи t-test.\n",
    "\n",
    "**Гипотеза**: фильмы из нашей случайной выборки выступили сильнее в мировом прокате, чем фильмы из генеральной совокупности, если математическое ожидание их мировых сборов больше среднего значения мировых сборов по генеральной совокупности, т.е.:"
   ]
  },
  {
   "cell_type": "markdown",
   "id": "e758064e",
   "metadata": {},
   "source": [
    "$$\n",
    "H_0 : \\mu \\leq \\bar{X}\n",
    "$$\n",
    "$$\n",
    "H_A : \\mu > \\bar{X}\n",
    "$$"
   ]
  },
  {
   "cell_type": "code",
   "execution_count": 152,
   "id": "95bf16f5",
   "metadata": {},
   "outputs": [
    {
     "data": {
      "text/plain": [
       "TtestResult(statistic=-0.07382574779235287, pvalue=0.5293509999894143, df=99)"
      ]
     },
     "execution_count": 152,
     "metadata": {},
     "output_type": "execute_result"
    }
   ],
   "source": [
    "from scipy import stats\n",
    "res = stats.ttest_1samp(sample_df['World Wide Sales (in $)'],                         # выборка\n",
    "                        popmean=df8['World Wide Sales (in $)'].mean(),                     # ожидаемое математическое ожидание\n",
    "                        alternative='greater')             # <\n",
    "res"
   ]
  },
  {
   "cell_type": "code",
   "execution_count": 153,
   "id": "6ab961bf",
   "metadata": {},
   "outputs": [
    {
     "data": {
      "text/plain": [
       "-0.07382574779235287"
      ]
     },
     "execution_count": 153,
     "metadata": {},
     "output_type": "execute_result"
    }
   ],
   "source": [
    "statistic = res[0] #значение t-статистики\n",
    "statistic"
   ]
  },
  {
   "cell_type": "code",
   "execution_count": 154,
   "id": "8229d51b",
   "metadata": {},
   "outputs": [
    {
     "data": {
      "text/plain": [
       "0.529"
      ]
     },
     "execution_count": 154,
     "metadata": {},
     "output_type": "execute_result"
    }
   ],
   "source": [
    "p_value = res[1]\n",
    "round(p_value, 3)"
   ]
  },
  {
   "cell_type": "markdown",
   "id": "532896b9",
   "metadata": {},
   "source": [
    "**Вывод:** по итогам тестирования гипотезы p-value=0.529. Это значит нулевая гипотеза\n",
    "- не отвергается на уровне значимости (α) 1%\n",
    "- не отвергается на уровне значимости (α) 5%\n",
    "- не отвергается на уровне значимости (α) 10%"
   ]
  },
  {
   "cell_type": "markdown",
   "id": "8f8030b8",
   "metadata": {},
   "source": [
    "По итогам вычислений можно сказать, что наша гипотеза не подтвердилась, так как ни на одном из уровней значимости мы можем отвергнуть нулевую гипотезу из-за высокого значения p-value: если мы отвергнем нулевую гипотезу, то с вероятностью 52.9 процентов исследователь ошибется"
   ]
  },
  {
   "cell_type": "markdown",
   "id": "941bd6c8",
   "metadata": {},
   "source": [
    "### Тест на равенство математических ожиданий"
   ]
  },
  {
   "cell_type": "code",
   "execution_count": 158,
   "id": "e5dec467",
   "metadata": {},
   "outputs": [],
   "source": [
    "sample1 = df8['fillna_bud'].sample(n=100, random_state=42)"
   ]
  },
  {
   "cell_type": "code",
   "execution_count": 159,
   "id": "08e977d6",
   "metadata": {},
   "outputs": [],
   "source": [
    "sample2 = df8['fillna_bud'].drop(sample1.index).sample(n=100, random_state=42)"
   ]
  },
  {
   "cell_type": "markdown",
   "id": "e9e9ef7c",
   "metadata": {},
   "source": [
    "**Гипотеза**: Математические ожидания двух несвязанных выборок не равны"
   ]
  },
  {
   "cell_type": "markdown",
   "id": "9c106459",
   "metadata": {},
   "source": [
    "$$\n",
    "H_0 : \\mu_1 = \\mu_2\n",
    "$$\n",
    "$$\n",
    "H_A : \\mu_1 ≠ \\mu_2\n",
    "$$"
   ]
  },
  {
   "cell_type": "code",
   "execution_count": 163,
   "id": "5b153df0",
   "metadata": {},
   "outputs": [
    {
     "data": {
      "text/plain": [
       "TtestResult(statistic=-0.9912457086685491, pvalue=0.3227754240608244, df=198.0)"
      ]
     },
     "execution_count": 163,
     "metadata": {},
     "output_type": "execute_result"
    }
   ],
   "source": [
    "result = stats.ttest_ind(sample2,                       # выборка 2\n",
    "                         sample1,                 # выборка 1\n",
    "                         alternative = 'two-sided',     # ≠\n",
    "                         equal_var=True)              # говорим, что дисперсии равны\n",
    "result"
   ]
  },
  {
   "cell_type": "code",
   "execution_count": 164,
   "id": "4a3c529a",
   "metadata": {},
   "outputs": [
    {
     "data": {
      "text/plain": [
       "-0.9912457086685491"
      ]
     },
     "execution_count": 164,
     "metadata": {},
     "output_type": "execute_result"
    }
   ],
   "source": [
    "result[0] #статистика"
   ]
  },
  {
   "cell_type": "code",
   "execution_count": 165,
   "id": "4ae92a7b",
   "metadata": {},
   "outputs": [
    {
     "data": {
      "text/plain": [
       "0.32"
      ]
     },
     "execution_count": 165,
     "metadata": {},
     "output_type": "execute_result"
    }
   ],
   "source": [
    "result[1].round(2) # p-value"
   ]
  },
  {
   "cell_type": "markdown",
   "id": "5420114f",
   "metadata": {},
   "source": [
    "**Вывод**: нулевая гипотеза не отвергается на любом уровне значимости, значит гипотеза о неравенстве математических ожиданий неверна"
   ]
  },
  {
   "cell_type": "markdown",
   "id": "8e298915",
   "metadata": {},
   "source": [
    "### Зависимость двух критериев через критерий независимости $\\chi^2$"
   ]
  },
  {
   "cell_type": "markdown",
   "id": "e8ca2e21",
   "metadata": {},
   "source": [
    "**Гипотеза**: есть взаимосвязь между типом лицензии и дистрибьютером"
   ]
  },
  {
   "cell_type": "code",
   "execution_count": 170,
   "id": "919d9329",
   "metadata": {},
   "outputs": [],
   "source": [
    "from scipy.stats import chi2_contingency"
   ]
  },
  {
   "cell_type": "code",
   "execution_count": 171,
   "id": "93ca4bfd",
   "metadata": {},
   "outputs": [
    {
     "name": "stdout",
     "output_type": "stream",
     "text": [
      "\n",
      "Статистика хи-квадрат: 249.70362291959373\n",
      "p-value: 0.003207011671806673\n"
     ]
    }
   ],
   "source": [
    "contingency_table = pd.crosstab(df8['fillna_License'], df8['fillna_Distributor'])\n",
    "chi2, p, dof, expected = chi2_contingency(contingency_table)\n",
    "print(f\"\\nСтатистика хи-квадрат: {chi2}\")\n",
    "print(f\"p-value: {p}\")"
   ]
  },
  {
   "cell_type": "markdown",
   "id": "be52fc97",
   "metadata": {},
   "source": [
    "**Вывод**: значение p-value равно 0.3%, значит мы можем отвергнуть нулевую гипотезу в пользу альтернативной, следовательно, дистрибьютор и тип лицензии связаны."
   ]
  },
  {
   "cell_type": "markdown",
   "id": "f423753f",
   "metadata": {},
   "source": [
    "### Совпадение распределений двух признаков через критерий согласия $\\chi^2$"
   ]
  },
  {
   "cell_type": "markdown",
   "id": "1184beac",
   "metadata": {},
   "source": [
    "С помощью критерия согласия хи-квадрат проверьте соотвествие распределения двух признаков."
   ]
  },
  {
   "cell_type": "code",
   "execution_count": 175,
   "id": "28a0ddc5",
   "metadata": {},
   "outputs": [],
   "source": [
    "from scipy.stats import chi2_contingency, chisquare"
   ]
  },
  {
   "cell_type": "markdown",
   "id": "1365fd59",
   "metadata": {},
   "source": [
    "Мы заметили, что 'Distributor' и 'License' взавимосвязаны из предыдущего пункта, поэтому поставим гипотезу, что они имеют похожее распределение и проверим ее при помощи критерия согласия $χ^2$"
   ]
  },
  {
   "cell_type": "markdown",
   "id": "8a3940ad",
   "metadata": {},
   "source": [
    "**Гипотеза**: Признаки 'Distributor' и 'License' имеют схожее распределение\n",
    "\n",
    "**Альтернативная Гипотеза**: Данные признаки не имеют схожее распределение"
   ]
  },
  {
   "cell_type": "code",
   "execution_count": 277,
   "id": "92619b34",
   "metadata": {},
   "outputs": [
    {
     "name": "stdout",
     "output_type": "stream",
     "text": [
      "pvalue=[0.99978809 0.01550547 0.98795395 0.03375576]\n"
     ]
    }
   ],
   "source": [
    "crosstab_1 = pd.crosstab(df8['fillna_Distributor'], df8.-['fillna_License'])\n",
    "print(f'pvalue={chisquare(crosstab_1.values, f_exp=chi2_contingency(crosstab_1)[-1])[-1]}')"
   ]
  },
  {
   "cell_type": "markdown",
   "id": "187ab206",
   "metadata": {},
   "source": [
    "**Вывод**: значения p-value вышли довольно большими и превышающими все разумные уровни значимости, значит, наша гипотеза верна и признаки имеют схожее распределение"
   ]
  }
 ],
 "metadata": {
  "colab": {
   "provenance": []
  },
  "kernelspec": {
   "display_name": "Python 3 (ipykernel)",
   "language": "python",
   "name": "python3"
  },
  "language_info": {
   "codemirror_mode": {
    "name": "ipython",
    "version": 3
   },
   "file_extension": ".py",
   "mimetype": "text/x-python",
   "name": "python",
   "nbconvert_exporter": "python",
   "pygments_lexer": "ipython3",
   "version": "3.11.7"
  }
 },
 "nbformat": 4,
 "nbformat_minor": 5
}
