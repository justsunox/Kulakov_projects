{
 "cells": [
  {
   "cell_type": "markdown",
   "metadata": {
    "_uuid": "21c25e4f8bb31570029fd6b069131a5d00f84cf1"
   },
   "source": [
    "# Домашнее задание 2 (5 баллов).\n",
    "\n",
    "*Все задания ниже имеют равный вес (5/10)*"
   ]
  },
  {
   "cell_type": "markdown",
   "metadata": {},
   "source": [
    "Код для импорта мы написали за вас (не благодарите, нам не трудно). Дальше код будете писать вы. \n",
    "\n",
    "[Тут](https://habr.com/ru/companies/ruvds/articles/494720/) шпора по pandas. За основу домашнего задания взят ноутбук [отсюда](https://rutube.ru/video/f884aa6ed5f94120b7304506042fe5bb/) (не подглядывайте!)."
   ]
  },
  {
   "cell_type": "code",
   "execution_count": 1,
   "metadata": {
    "_uuid": "568eb2d31004b87d22e119112ae01a1e75105f1d"
   },
   "outputs": [],
   "source": [
    "import pandas as pd\n",
    "import numpy as np"
   ]
  },
  {
   "cell_type": "markdown",
   "metadata": {},
   "source": [
    "#### Описание данных\n",
    "\n",
    "Автор д/з - плохой человек, который не стал переводить описание с мотивировкой, что весь DS на английском. Так что описание полей будет на английском:\n",
    "\n",
    "1. Account ID\n",
    "- Description: A unique identifier for each social media account in the dataset.\n",
    "- Type: Integer\n",
    "- Example: 1, 2, 3, …\n",
    "2. Username\n",
    "- Description: The username or handle of the social media account.\n",
    "- Type: String\n",
    "- Example: john_doe, tech_guru_22, fitness_freak\n",
    "3. Platform\n",
    "- Description: The social media platform the account is using (Instagram, Twitter, Facebook, TikTok, LinkedIn).\n",
    "- Type: Categorical (String)\n",
    "- Example: Instagram, Twitter, Facebook, TikTok, LinkedIn\n",
    "4. Follower Count\n",
    "- Description: The total number of followers the account has.\n",
    "- Type: Integer\n",
    "- Example: 1500, 245000, 78000\n",
    "5. Posts Per Week\n",
    "- Description: The average number of posts the account creates per week.\n",
    "- Type: Integer\n",
    "- Example: 3, 5, 7\n",
    "6. Engagement Rate\n",
    "- Description: The percentage of interactions (likes, comments, shares) relative to the follower count. This is a measure of how engaging the content is.\n",
    "- Type: Float\n",
    "- Range: 0.01 to 0.15\n",
    "- Example: 0.045 (4.5% engagement rate)\n",
    "7. Ad Spend (USD)\n",
    "- Description: The monthly amount spent on advertising or promoting posts.\n",
    "- Type: Float\n",
    "- Example: 150.75, 850.00, 300.50\n",
    "8. Conversion Rate\n",
    "- Description: The percentage of users who take a desired action (e.g., clicking a link, signing up, etc.) after interacting with an ad.\n",
    "- Type: Float\n",
    "- Range: 0.01 to 0.05 (1% to 5% conversion rate)\n",
    "- Example: 0.025 (2.5% conversion rate)\n",
    "9. Campaign Reach\n",
    "- Description: The total number of unique users reached by the user’s campaigns in a given month.\n",
    "- Type: Integer\n",
    "- Example: 5000, 20000, 15000"
   ]
  },
  {
   "cell_type": "markdown",
   "metadata": {},
   "source": [
    "#### Задание 0\n",
    "\n",
    "Подгрузите данные. Да-да, за чтение таблицы баллов не будет))\n",
    "\n",
    "**Hint**: [pd.read_csv](https://pandas.pydata.org/pandas-docs/stable/reference/api/pandas.read_csv.html)"
   ]
  },
  {
   "cell_type": "code",
   "execution_count": 3,
   "metadata": {},
   "outputs": [],
   "source": [
    "df = pd.read_csv(\"data.csv\")"
   ]
  },
  {
   "cell_type": "code",
   "execution_count": 5,
   "metadata": {},
   "outputs": [
    {
     "data": {
      "text/html": [
       "<div>\n",
       "<style scoped>\n",
       "    .dataframe tbody tr th:only-of-type {\n",
       "        vertical-align: middle;\n",
       "    }\n",
       "\n",
       "    .dataframe tbody tr th {\n",
       "        vertical-align: top;\n",
       "    }\n",
       "\n",
       "    .dataframe thead th {\n",
       "        text-align: right;\n",
       "    }\n",
       "</style>\n",
       "<table border=\"1\" class=\"dataframe\">\n",
       "  <thead>\n",
       "    <tr style=\"text-align: right;\">\n",
       "      <th></th>\n",
       "      <th>Account ID</th>\n",
       "      <th>Username</th>\n",
       "      <th>Platform</th>\n",
       "      <th>Follower Count</th>\n",
       "      <th>Posts Per Week</th>\n",
       "      <th>Engagement Rate</th>\n",
       "      <th>Ad Spend (USD)</th>\n",
       "      <th>Conversion Rate</th>\n",
       "      <th>Campaign Reach</th>\n",
       "    </tr>\n",
       "  </thead>\n",
       "  <tbody>\n",
       "    <tr>\n",
       "      <th>0</th>\n",
       "      <td>1</td>\n",
       "      <td>harrislisa</td>\n",
       "      <td>TikTok</td>\n",
       "      <td>54217</td>\n",
       "      <td>3</td>\n",
       "      <td>0.0986</td>\n",
       "      <td>538.10</td>\n",
       "      <td>0.0490</td>\n",
       "      <td>1308</td>\n",
       "    </tr>\n",
       "    <tr>\n",
       "      <th>1</th>\n",
       "      <td>2</td>\n",
       "      <td>rhicks</td>\n",
       "      <td>LinkedIn</td>\n",
       "      <td>987518</td>\n",
       "      <td>5</td>\n",
       "      <td>0.0834</td>\n",
       "      <td>479.24</td>\n",
       "      <td>0.0174</td>\n",
       "      <td>13302</td>\n",
       "    </tr>\n",
       "    <tr>\n",
       "      <th>2</th>\n",
       "      <td>3</td>\n",
       "      <td>qthomas</td>\n",
       "      <td>Facebook</td>\n",
       "      <td>218870</td>\n",
       "      <td>3</td>\n",
       "      <td>0.1020</td>\n",
       "      <td>150.36</td>\n",
       "      <td>0.0318</td>\n",
       "      <td>11043</td>\n",
       "    </tr>\n",
       "    <tr>\n",
       "      <th>3</th>\n",
       "      <td>4</td>\n",
       "      <td>carlosholt</td>\n",
       "      <td>Instagram</td>\n",
       "      <td>207432</td>\n",
       "      <td>6</td>\n",
       "      <td>0.0834</td>\n",
       "      <td>932.62</td>\n",
       "      <td>0.0400</td>\n",
       "      <td>12074</td>\n",
       "    </tr>\n",
       "    <tr>\n",
       "      <th>4</th>\n",
       "      <td>5</td>\n",
       "      <td>parsonsashley</td>\n",
       "      <td>Facebook</td>\n",
       "      <td>350204</td>\n",
       "      <td>2</td>\n",
       "      <td>0.0642</td>\n",
       "      <td>504.44</td>\n",
       "      <td>0.0463</td>\n",
       "      <td>14083</td>\n",
       "    </tr>\n",
       "    <tr>\n",
       "      <th>...</th>\n",
       "      <td>...</td>\n",
       "      <td>...</td>\n",
       "      <td>...</td>\n",
       "      <td>...</td>\n",
       "      <td>...</td>\n",
       "      <td>...</td>\n",
       "      <td>...</td>\n",
       "      <td>...</td>\n",
       "      <td>...</td>\n",
       "    </tr>\n",
       "    <tr>\n",
       "      <th>9995</th>\n",
       "      <td>9996</td>\n",
       "      <td>sbyrd</td>\n",
       "      <td>TikTok</td>\n",
       "      <td>388169</td>\n",
       "      <td>6</td>\n",
       "      <td>0.0642</td>\n",
       "      <td>362.91</td>\n",
       "      <td>0.0108</td>\n",
       "      <td>45091</td>\n",
       "    </tr>\n",
       "    <tr>\n",
       "      <th>9996</th>\n",
       "      <td>9997</td>\n",
       "      <td>jacksongerald</td>\n",
       "      <td>TikTok</td>\n",
       "      <td>150775</td>\n",
       "      <td>1</td>\n",
       "      <td>0.0642</td>\n",
       "      <td>177.92</td>\n",
       "      <td>0.0262</td>\n",
       "      <td>33084</td>\n",
       "    </tr>\n",
       "    <tr>\n",
       "      <th>9997</th>\n",
       "      <td>9998</td>\n",
       "      <td>eryan</td>\n",
       "      <td>Twitter</td>\n",
       "      <td>427451</td>\n",
       "      <td>5</td>\n",
       "      <td>0.0834</td>\n",
       "      <td>432.65</td>\n",
       "      <td>0.0402</td>\n",
       "      <td>12484</td>\n",
       "    </tr>\n",
       "    <tr>\n",
       "      <th>9998</th>\n",
       "      <td>9999</td>\n",
       "      <td>barbara57</td>\n",
       "      <td>LinkedIn</td>\n",
       "      <td>132884</td>\n",
       "      <td>4</td>\n",
       "      <td>0.0986</td>\n",
       "      <td>892.99</td>\n",
       "      <td>0.0329</td>\n",
       "      <td>35766</td>\n",
       "    </tr>\n",
       "    <tr>\n",
       "      <th>9999</th>\n",
       "      <td>10000</td>\n",
       "      <td>nbutler</td>\n",
       "      <td>Facebook</td>\n",
       "      <td>725253</td>\n",
       "      <td>2</td>\n",
       "      <td>0.0642</td>\n",
       "      <td>878.87</td>\n",
       "      <td>0.0420</td>\n",
       "      <td>13012</td>\n",
       "    </tr>\n",
       "  </tbody>\n",
       "</table>\n",
       "<p>10000 rows × 9 columns</p>\n",
       "</div>"
      ],
      "text/plain": [
       "      Account ID       Username   Platform  Follower Count  Posts Per Week  \\\n",
       "0              1     harrislisa     TikTok           54217               3   \n",
       "1              2         rhicks   LinkedIn          987518               5   \n",
       "2              3        qthomas   Facebook          218870               3   \n",
       "3              4     carlosholt  Instagram          207432               6   \n",
       "4              5  parsonsashley   Facebook          350204               2   \n",
       "...          ...            ...        ...             ...             ...   \n",
       "9995        9996          sbyrd     TikTok          388169               6   \n",
       "9996        9997  jacksongerald     TikTok          150775               1   \n",
       "9997        9998          eryan    Twitter          427451               5   \n",
       "9998        9999      barbara57   LinkedIn          132884               4   \n",
       "9999       10000        nbutler   Facebook          725253               2   \n",
       "\n",
       "      Engagement Rate  Ad Spend (USD)  Conversion Rate  Campaign Reach  \n",
       "0              0.0986          538.10           0.0490            1308  \n",
       "1              0.0834          479.24           0.0174           13302  \n",
       "2              0.1020          150.36           0.0318           11043  \n",
       "3              0.0834          932.62           0.0400           12074  \n",
       "4              0.0642          504.44           0.0463           14083  \n",
       "...               ...             ...              ...             ...  \n",
       "9995           0.0642          362.91           0.0108           45091  \n",
       "9996           0.0642          177.92           0.0262           33084  \n",
       "9997           0.0834          432.65           0.0402           12484  \n",
       "9998           0.0986          892.99           0.0329           35766  \n",
       "9999           0.0642          878.87           0.0420           13012  \n",
       "\n",
       "[10000 rows x 9 columns]"
      ]
     },
     "execution_count": 5,
     "metadata": {},
     "output_type": "execute_result"
    }
   ],
   "source": [
    "df"
   ]
  },
  {
   "cell_type": "markdown",
   "metadata": {},
   "source": [
    "#### Задание 1\n",
    "\n",
    "Колонка `Platform` содержит название различных платформ. Давайте представим, что в них есть некоторое отношение порядка. Закодируйте каждую платформу целым числом (от 0 до N) и положите этот \"код\" в новую колонку `Platform_Code`. Теперь вычислите корреляцию Спирмена между всеми парами колонок в датасете (результатом будет таблица корреляций). В качестве ответа выведите значение корреляции `Platform_Code` с `Engagement Rate`. Можете после вывода числа еще коротко написать, что оно означает (нет, это не оценивается).\n",
    "\n",
    "**Hint**: [pd.factorize](https://pandas.pydata.org/pandas-docs/stable/reference/api/pandas.factorize.html), [pd.DataFrame.select_dtypes](https://pandas.pydata.org/pandas-docs/stable/reference/api/pandas.DataFrame.select_dtypes.html), [pd.DataFrame.corr](https://pandas.pydata.org/pandas-docs/stable/reference/api/pandas.DataFrame.corr.html)."
   ]
  },
  {
   "cell_type": "code",
   "execution_count": 8,
   "metadata": {},
   "outputs": [
    {
     "data": {
      "text/plain": [
       "0.03138169529349812"
      ]
     },
     "execution_count": 8,
     "metadata": {},
     "output_type": "execute_result"
    }
   ],
   "source": [
    "df[\"Platform\"].unique() #узнали все уникальные значения признака\n",
    "\n",
    "def plat_coding(name):\n",
    "    if name == \"TikTok\":\n",
    "        return 0\n",
    "    elif name == \"LinkedIn\":  \n",
    "        return 1\n",
    "    elif name == \"Facebook\":\n",
    "        return 2\n",
    "    elif name == \"Instagram\":\n",
    "        return 3\n",
    "    elif name == \"Twitter\":\n",
    "        return 4\n",
    "        \n",
    "df[\"Platform_Code\"] = df[\"Platform\"].apply(plat_coding)\n",
    "\n",
    "df.corr(method=\"spearman\", numeric_only=True)[\"Platform_Code\"][\"Engagement Rate\"]"
   ]
  },
  {
   "cell_type": "raw",
   "metadata": {},
   "source": [
    "Интерпретация:"
   ]
  },
  {
   "cell_type": "markdown",
   "metadata": {},
   "source": [
    "#### Задание 2\n",
    "\n",
    "Теперь посмотрите на столбец `Follower Count`. В нем какие-то числа. Иногда бывает полезно провести дискретизацию такого признака. Разбейте все значения в столбце на 4 группы: \"Low\", \"Medium\", \"High\", \"Very High\". Каждая группа включает в себя новые 25% данных. То есть, Low включает в себя 25% самых маленьких значений признака и так далее. Положите значения \"Low\", \"Medium\", \"High\" или \"Very High\" для каждого сэмпла датасета в новую колонку `Follower_Bin`. Теперь посчитайте среднее значение `Engagement Rate` для каждой категории из `Follower_Bin`. В качестве ответа выведите значение для категории \"High\".\n",
    "\n",
    "**Hint**: [pd.qcut](https://pandas.pydata.org/pandas-docs/stable/reference/api/pandas.qcut.html), [pd.groupby](https://pandas.pydata.org/pandas-docs/stable/reference/api/pandas.DataFrame.groupby.html), [pd.DataFrame.mean](https://pandas.pydata.org/pandas-docs/stable/reference/api/pandas.DataFrame.mean.html)"
   ]
  },
  {
   "cell_type": "code",
   "execution_count": 10,
   "metadata": {},
   "outputs": [
    {
     "data": {
      "text/plain": [
       "0.08655032"
      ]
     },
     "execution_count": 10,
     "metadata": {},
     "output_type": "execute_result"
    }
   ],
   "source": [
    "srtd = sorted(df[\"Follower Count\"])\n",
    "\n",
    "df.shape[0]*0.25 #узнали, сколько объектов лежат в каждых 25%\n",
    "\n",
    "low = srtd[:2500] #[1449;257016]\n",
    "medi = srtd[2500:5000] #[257077;506487]\n",
    "hig = srtd[5000:7500] #[506571;749877]\n",
    "verhig = srtd[7500:] #[750166;999982]\n",
    "\n",
    "def divide_lmhvh(numb):\n",
    "    if numb in low:\n",
    "        return \"Low\"\n",
    "    elif numb in medi:\n",
    "        return \"Medium\"\n",
    "    elif numb in hig:\n",
    "        return \"High\"\n",
    "    else:\n",
    "        return \"Very High\"\n",
    "\n",
    "df[\"Follower_Bin\"] = df[\"Follower Count\"].apply(divide_lmhvh)\n",
    "\n",
    "df.groupby(\"Follower_Bin\")[\"Engagement Rate\"].mean()[\"High\"]"
   ]
  },
  {
   "cell_type": "markdown",
   "metadata": {},
   "source": [
    "#### Задание 3\n",
    "\n",
    "Иногда бывает полезно превратить широкую таблицу в длинную (например, для визуализаций сразу нескольких признаков на одной картинке). Да, звучит странно, но именно этим вы сейчас и займетесь. Сделайте новый датафрейм `melted_df`, в который вы поместите каждый сэмпл датасета 6 раз: по одному разу на значение из 'Follower Count', 'Posts Per Week', 'Ad Spend (USD)', 'Conversion Rate', 'Engagement Rate' и 'Campaign Reach'. То есть, вы берете сэмпл из датасета (строку) и превращаете ее в 6 отдельных строк. Каждая отдельная строка в столбце `Metric` имеет имя из предложенного списка 5 признаков, а в столбце `Value` - значение данного сэмпла по этому признаку. Значение `Platform` повторяется в этих 6 строках.\n",
    "\n",
    "Иначе говоря, \n",
    "\n",
    "```json\n",
    "{\n",
    "    \"Account ID\": 1,\n",
    "    \"Username\": \"harrislisa\",\n",
    "    \"Platform\": \"TikTok\",\n",
    "    \"Follower Count\": 54217,\n",
    "    \"Posts Per Week\": 3,\n",
    "    \"Engagement Rate\": 0.0986,\n",
    "    \"Ad Spend (USD)\": 538.1,\n",
    "    \"Conversion Rate\": 0.049,\n",
    "    \"Campaign Reach\": 1308,\n",
    "    \"Platform_Code\": 0,\n",
    "    \"Follower_Bin\": \"Low\"\n",
    "}\n",
    "```\n",
    "\n",
    "превращается в \n",
    "\n",
    "```json\n",
    "{\n",
    "    \"Platform\": \"TikTok\",\n",
    "    \"Metric\": \"Follower Count\",\n",
    "    \"Value\": 54217,\n",
    "},\n",
    "{\n",
    "    \"Platform\": \"TikTok\",\n",
    "    \"Metric\": \"Posts Per Week\",\n",
    "    \"Value\": 3,\n",
    "}, ...\n",
    "```\n",
    "\n",
    "Для каждого уникальной пары значений (`Platform`, `Metric`) посчитайте моду среди всех значений `Value` для этой пары, результат сделайте списком и оставьте только наибольшее. В качестве ответа выведите сумму полученных мод (сумму всех значений в столбце `Value` уже после вычисления мод). Иначе говоря, выведите сумму всех мод значений для всех уникальных пар (`Platform`, `Metric`).\n",
    "\n",
    "**Hint**: [pd.melt](https://pandas.pydata.org/pandas-docs/stable/reference/api/pandas.melt.html), [pd.DataFrame.mode](https://pandas.pydata.org/pandas-docs/stable/reference/api/pandas.DataFrame.mode.html), [pd.DataFrameGroupBy.agg](https://pandas.pydata.org/docs/dev/reference/api/pandas.core.groupby.DataFrameGroupBy.agg.html)"
   ]
  },
  {
   "cell_type": "code",
   "execution_count": 12,
   "metadata": {},
   "outputs": [
    {
     "data": {
      "text/plain": [
       "3100285.4716"
      ]
     },
     "execution_count": 12,
     "metadata": {},
     "output_type": "execute_result"
    }
   ],
   "source": [
    "melted_df = pd.melt(df, id_vars=['Platform'], value_vars=['Follower Count', 'Posts Per Week', 'Ad Spend (USD)', 'Conversion Rate', 'Engagement Rate', 'Campaign Reach'])\n",
    "melted_df = melted_df.rename(columns={'variable': 'Metric'}) #первый пункт - создание датасета\n",
    "\n",
    "final = melted_df.groupby([\"Platform\", \"Metric\"])[\"value\"].agg(lambda x: x.mode().max())\n",
    "final.sum() #сумма мод"
   ]
  },
  {
   "cell_type": "markdown",
   "metadata": {},
   "source": [
    "#### Задание 4\n",
    "\n",
    "А теперь хочется посмотреть на самые популярные аккаунты на разных платформах. Для каждой платформы отсортируйте датафрейм по убыванию количества подписчиков (`Follower Count`) - да, без циклов, сразу для всех платформ сделать сортировку, а затем оставьте только первые три записи для каждой платформы - это и будут три самых популярных аккаунта для каждой платформы. В качестве ответа выведите саму таблицу и минимальное значение `Follower Count` в ней.\n",
    "\n",
    "**Hint**: к *groupby* можно применять функции - это эквивалентно применению функции к каждой \"группе\" внутри groupby-объекта. Читайте [про применение apply к датафрейму после groupby](https://pandas.pydata.org/pandas-docs/stable/user_guide/groupby.html#flexible-apply)."
   ]
  },
  {
   "cell_type": "code",
   "execution_count": 14,
   "metadata": {},
   "outputs": [
    {
     "name": "stdout",
     "output_type": "stream",
     "text": [
      "Platform\n",
      "Facebook     [999982, 997915, 997512]\n",
      "Instagram    [999726, 999351, 997844]\n",
      "LinkedIn     [999055, 998968, 998925]\n",
      "TikTok       [999739, 999234, 998623]\n",
      "Twitter      [999919, 999442, 998216]\n",
      "Name: Follower Count, dtype: object\n",
      "997512\n"
     ]
    }
   ],
   "source": [
    "def three_max(lst):\n",
    "    return sorted(lst, reverse=True)[:3]\n",
    "\n",
    "last = df.groupby(\"Platform\")[\"Follower Count\"].agg(three_max)\n",
    "print(last) #таблица\n",
    "print(min(min(last.apply(lambda x: x[::-1])))) #мин.знач\n",
    "\n",
    "#P.S. Не очень понял, в каком формате сделать таблицу, так что следующая ячейка выдаёт тот же ответ в более привычном формате "
   ]
  },
  {
   "cell_type": "code",
   "execution_count": 304,
   "metadata": {},
   "outputs": [
    {
     "name": "stdout",
     "output_type": "stream",
     "text": [
      "           Username   Platform  Follower Count\n",
      "0            eric65   Facebook          999982\n",
      "1      patricknoble   Facebook          997915\n",
      "2       chavezjason   Facebook          997512\n",
      "3   alexandersamuel  Instagram          999726\n",
      "4          lrodgers  Instagram          999351\n",
      "5            jbrown  Instagram          997844\n",
      "6           toneill   LinkedIn          999055\n",
      "7     andrewgregory   LinkedIn          998968\n",
      "8      ashleycooper   LinkedIn          998925\n",
      "9      edwardthomas     TikTok          999739\n",
      "10    andradewesley     TikTok          999234\n",
      "11     williamwyatt     TikTok          998623\n",
      "12      teresaellis    Twitter          999919\n",
      "13           sriley    Twitter          999442\n",
      "14       peggymunoz    Twitter          998216\n"
     ]
    },
    {
     "data": {
      "text/plain": [
       "997512"
      ]
     },
     "execution_count": 304,
     "metadata": {},
     "output_type": "execute_result"
    }
   ],
   "source": [
    "overall_srt = df.sort_values(\"Follower Count\", ascending=False)\n",
    "\n",
    "fcb3 = overall_srt[overall_srt[\"Platform\"] == \"Facebook\"][:3]\n",
    "ig3 = overall_srt[overall_srt[\"Platform\"] == \"Instagram\"][:3]\n",
    "lnk3 = overall_srt[overall_srt[\"Platform\"] == \"LinkedIn\"][:3]\n",
    "tt3 = overall_srt[overall_srt[\"Platform\"] == \"TikTok\"][:3]\n",
    "tw3 = overall_srt[overall_srt[\"Platform\"] == \"Twitter\"][:3]\n",
    "\n",
    "mrg = fcb3[[\"Username\",\"Platform\", \"Follower Count\"]].merge(ig3[[\"Username\",\"Platform\", \"Follower Count\"]], how=\"outer\").merge(lnk3[[\"Username\",\"Platform\", \"Follower Count\"]], how=\"outer\").merge(tt3[[\"Username\",\"Platform\", \"Follower Count\"]], how=\"outer\").merge(tw3[[\"Username\",\"Platform\", \"Follower Count\"]], how=\"outer\")\n",
    "\n",
    "print(mrg)\n",
    "\n",
    "min(mrg[\"Follower Count\"])\n"
   ]
  },
  {
   "cell_type": "markdown",
   "metadata": {},
   "source": [
    "#### Задание 5\n",
    "\n",
    "Хочется посчитать какую-то метрику. Мы хотим посмотреть, на отношение разности суммы подписчиков аккаунтов с высокой и низкой конверсией к суммарному охвату рекламы на каждой платформе. То есть, мы делим аккаунты на две группы: высокая и низка конверсия. Затем мы смотрим на то, на сколько сильно влияние аккаунтов с высокой конверсией по сравнению с аккаунтами с низкой конверсией. \n",
    "\n",
    "Давайте определим *Conversion Influence* следущим образом:\n",
    "\n",
    "$$Conversion Influence = \\frac{Total Follower\\ Count (High) - Total Follower\\ Count (Low)}{Total Campaign Reach (High)+Total Campaign Reach (Low)}$$\n",
    "\n",
    "Считать эту метрику мы будет для каждой `Platform`. В этой формуле High - это значения всех сэмплов датасета, в которых `Conversion Rate` больше медианы, а `Low` - не более медианы. `Total Feature` - это суммарное количество значений `Feature` либо по `High` сэмплам, либо по `Low`.\n",
    "\n",
    "Чтобы постоянно не пересчитывать, где High. где Low, сделайте новую колонку в датасете `Conversion_Category`. Положите в нее для каждой строки либо High, либо Low.\n",
    "\n",
    "Выведите платформу с самым большим `Conversion Influence`.\n",
    "\n",
    "**Hint**: данное задание не про *groupby*, а скорее про [pd.pivot_table](https://pandas.pydata.org/pandas-docs/stable/reference/api/pandas.pivot_table.html). Сделайте сводную таблицу, по которой уже можно посчитать суммы, а затем подставить их в формулы."
   ]
  },
  {
   "cell_type": "code",
   "execution_count": 365,
   "metadata": {},
   "outputs": [
    {
     "data": {
      "text/plain": [
       "'Twitter'"
      ]
     },
     "execution_count": 365,
     "metadata": {},
     "output_type": "execute_result"
    }
   ],
   "source": [
    "me = df[\"Conversion Rate\"].median()\n",
    "\n",
    "def con_cat(numb):\n",
    "    if numb > me:\n",
    "        return \"High\"\n",
    "    else:\n",
    "        return \"Low\"\n",
    "\n",
    "\n",
    "\n",
    "df[\"Conversion_Category\"] = df[\"Conversion Rate\"].apply(con_cat)\n",
    "\n",
    "pivo = df.pivot_table(index=\"Platform\", columns=\"Conversion_Category\", aggfunc=\"sum\")[\"Follower Count\"]\n",
    "\n",
    "def conv_inf(numb1, numb2):\n",
    "    return (numb1 - numb2)/(numb1 + numb2)\n",
    "\n",
    "pivo[\"Conversion Influence\"] = pivo.apply(lambda row: conv_inf(row[\"High\"], row[\"Low\"]), axis=1)\n",
    "\n",
    "pivo[pivo[\"Conversion Influence\"] == max(pivo[\"Conversion Influence\"])].index[0]\n"
   ]
  },
  {
   "cell_type": "markdown",
   "metadata": {},
   "source": [
    "#### Задание 6\n",
    "\n",
    "Мы знаем, что вам понравилось считать метрики по формуле. Давайте закрепим этот успех. Теперь для каждой платформы посчитаем, на сколько эффективна реклама в разрезе трех последовательных записей в датасете. \n",
    "\n",
    "Для каждой платформы отсортируйте записи в порядке убывания `Posts Per Week`. Будто бы аккаунты, которые постят чаще, используют более \"активные\" стратегии по рекламе. Теперь посчитайте *скользущие суммы с окном 3* по `Campaign Reach` и `Ad Spend (USD)`. Скользящая сумма с окном N - это вы идете по массиву, берете все последовательные тройки записей и суммируете их. Для первых двух записей троек не найдется. Для них скользящее среднее - NaN, что нам не помешает. \n",
    "\n",
    "Теперь для каждого окна посчитайте \n",
    "\n",
    "$$Rolling Efficiency Ratio = \\frac{Rolling Sum of Campaign Reach}{Rolling Sum of Ad Spend}$$\n",
    "\n",
    "По сути, для каждого окна вы посчитаете сколько пользователе привлеклось за один доллар, потреченный на рекламу, в данном окне. Понятно, что значений будет столько, сколько окон. Нам интересно максимально значение такой эффективности для каждой платформы.\n",
    "\n",
    "В качестве ответа выведите название платформы с наибольшей максимальной эффективность и наименьшей (два названия, не одно, не три, ровно два).\n",
    "\n",
    "**Hint**: окна можно делать через [pd.DataFrame.rolling](https://pandas.pydata.org/pandas-docs/stable/reference/api/pandas.DataFrame.rolling.html)."
   ]
  },
  {
   "cell_type": "code",
   "execution_count": 33,
   "metadata": {},
   "outputs": [
    {
     "name": "stdout",
     "output_type": "stream",
     "text": [
      "наибольшая: Facebook наименьшая: LinkedIn\n"
     ]
    }
   ],
   "source": [
    "twrer = df[df[\"Platform\"] == \"Twitter\"].sort_values(\"Posts Per Week\", ascending=False) #Twitter\n",
    "twrer[\"ROll_cr\"] = twrer[\"Campaign Reach\"].rolling(window=3).mean()/twrer[\"Ad Spend (USD)\"].rolling(window=3).mean()\n",
    "\n",
    "twrer = twrer[[\"Platform\", \"ROll_cr\"]]\n",
    "\n",
    "fbrer = df[df[\"Platform\"] == \"Facebook\"].sort_values(\"Posts Per Week\", ascending=False) #Facebook\n",
    "fbrer[\"ROll_cr\"] = fbrer[\"Campaign Reach\"].rolling(window=3).mean()/fbrer[\"Ad Spend (USD)\"].rolling(window=3).mean()\n",
    "\n",
    "fbrer = fbrer[[\"Platform\", \"ROll_cr\"]]\n",
    "\n",
    "lkrer = df[df[\"Platform\"] == \"LinkedIn\"].sort_values(\"Posts Per Week\", ascending=False) #LinkedIn\n",
    "lkrer[\"ROll_cr\"] = lkrer[\"Campaign Reach\"].rolling(window=3).mean()/lkrer[\"Ad Spend (USD)\"].rolling(window=3).mean()\n",
    "\n",
    "lkrer = lkrer[[\"Platform\", \"ROll_cr\"]]\n",
    "\n",
    "igrer = df[df[\"Platform\"] == \"Instagram\"].sort_values(\"Posts Per Week\", ascending=False) #Instagram\n",
    "igrer[\"ROll_cr\"] = igrer[\"Campaign Reach\"].rolling(window=3).mean()/igrer[\"Ad Spend (USD)\"].rolling(window=3).mean()\n",
    "\n",
    "igrer = igrer[[\"Platform\", \"ROll_cr\"]]\n",
    "\n",
    "ttrer = df[df[\"Platform\"] == \"TikTok\"].sort_values(\"Posts Per Week\", ascending=False) #TikTok\n",
    "ttrer[\"ROll_cr\"] = ttrer[\"Campaign Reach\"].rolling(window=3).mean()/ttrer[\"Ad Spend (USD)\"].rolling(window=3).mean()\n",
    "\n",
    "ttrer = ttrer[[\"Platform\", \"ROll_cr\"]]\n",
    "\n",
    "big_df = twrer.merge(fbrer, how=\"outer\").merge(lkrer, how=\"outer\").merge(igrer, how=\"outer\").merge(ttrer, how=\"outer\")\n",
    "\n",
    "q = big_df.dropna().pivot_table(index = \"Platform\", aggfunc = \"max\")\n",
    "\n",
    "print(\"наибольшая:\", q[q[\"ROll_cr\"] == max(q[\"ROll_cr\"])].index[0], \"наименьшая:\", q[q[\"ROll_cr\"] == min(q[\"ROll_cr\"])].index[0])"
   ]
  },
  {
   "cell_type": "markdown",
   "metadata": {},
   "source": [
    "#### Задание 7\n",
    "\n",
    "Это еще не все прекрасные функции pandas, которые мы хотим вам показать. Теперь вы посчитаете, сколько аккаунтов на каждой платформе одновременно лучшие по `Engagement Rate` и `Conversion Rate`.\n",
    "\n",
    "Сделайте два отдельных суб-сета. В одном оставьте для каждой платфмормы один топовый аккаунт по `Engagement Rate`, в другом - по `Conversion Rate`. Соедините эти два подмножества по столбцу `Platform` так, что в одно строке есть описание сразу двух аккаунтов-лидеров. Теперь посмотрите равны ли имена аккаунтов в одной строке. Выведите количество строк, в которых названия аккаунтов совпадают."
   ]
  },
  {
   "cell_type": "code",
   "execution_count": 266,
   "metadata": {},
   "outputs": [
    {
     "data": {
      "text/plain": [
       "0"
      ]
     },
     "execution_count": 266,
     "metadata": {},
     "output_type": "execute_result"
    }
   ],
   "source": [
    "er_sort = df.sort_values(\"Engagement Rate\", ascending=False).drop_duplicates(\"Platform\")[[\"Username\", \"Platform\", \"Engagement Rate\"]]\n",
    "\n",
    "cr_sort = df.sort_values(\"Conversion Rate\", ascending=False).drop_duplicates(\"Platform\")[[\"Username\", \"Platform\", \"Conversion Rate\"]]\n",
    "\n",
    "result = er_sort.merge(cr_sort, on=\"Platform\")\n",
    "\n",
    "result[result[\"Username_x\"] == result[\"Username_y\"]].shape[0]"
   ]
  },
  {
   "cell_type": "markdown",
   "metadata": {},
   "source": [
    "#### Задание 8\n",
    "\n",
    "Давайте теперь что-то попроще сделаем. Например, посчитаем отношение суммарного количества подписчиков на аккаунтах с высокой конверсией к такой же сумме в аккаунтах с низкой конверсией (очевидно, для каждой платформы). По сути, мы просто хотим получить число, которое характеризует, на сколько сильно аккаунты с высокой конверсией \"доминируют\" над аккаунтами с низкой конверсией в плане количества подписчиков.\n",
    "\n",
    "Высокой конверсией будем считать конверсию больше средней. Остальное - низкая. Посчитайте суммы подписчиков для каждой платформы, поделите одно на другое и выведите разницу между самым большим значением и самым маленьким, а также платформы, которые соотвутствуют этим значениям.\n",
    "\n",
    "Используйте магическую команду `%%time`, чтобы замерить, сколько времени ушло на исполнение вашего pandas-скрипта."
   ]
  },
  {
   "cell_type": "code",
   "execution_count": 402,
   "metadata": {},
   "outputs": [
    {
     "name": "stdout",
     "output_type": "stream",
     "text": [
      "0.1136095917647677\n",
      "наибольшее у Twitter , наименьшее у Instagram\n",
      "CPU times: total: 0 ns\n",
      "Wall time: 4.32 ms\n"
     ]
    }
   ],
   "source": [
    "%%time\n",
    "\n",
    "mn_conv = df[\"Conversion Rate\"].mean()\n",
    "\n",
    "greater_mn = df[df[\"Conversion Rate\"] > mn_conv].groupby(\"Platform\")[\"Conversion Rate\"].count()\n",
    "less_mn = df[df[\"Conversion Rate\"] <= mn_conv].groupby(\"Platform\")[\"Conversion Rate\"].count()\n",
    "\n",
    "res = list(greater_mn.values/ less_mn.values)\n",
    "maxi = max(res)\n",
    "mini= min(res)\n",
    "plat1 = res.index(maxi)\n",
    "plat2 = res.index(mini)\n",
    "\n",
    "print(maxi - mini)\n",
    "print(\"наибольшее у\", sorted(df[\"Platform\"].unique())[plat1], \", наименьшее у\", sorted(df[\"Platform\"].unique())[plat2])"
   ]
  },
  {
   "cell_type": "markdown",
   "metadata": {},
   "source": [
    "#### Задание 9\n",
    "\n",
    "А теперь решите задание 8 чисто питоном. Никаких функций и методов pandas. Только питоновские циклы. Замерьте время выполнения кода. Наконец, сравните время в задании 8 и 9. Напишите ниже, кто же победил: чистый python и pandas?\n",
    "\n",
    "**Hint**: Чтобы итерироваться по датафрейму, можно из него сделать генератор через [pd.DataFrame.iterrows](https://pandas.pydata.org/pandas-docs/stable/reference/api/pandas.DataFrame.iterrows.html) или [pd.DataFrame.itertuples](https://pandas.pydata.org/pandas-docs/stable/reference/api/pandas.DataFrame.itertuples.html#pandas.DataFrame.itertuples). К слову, это не все способы итерироваться по датафрейму."
   ]
  },
  {
   "cell_type": "code",
   "execution_count": 406,
   "metadata": {},
   "outputs": [
    {
     "name": "stdout",
     "output_type": "stream",
     "text": [
      "0.1136095917647677\n",
      "наименьшее у Instagram, наибольшее у Twitter CPU times: total: 1.39 s\n",
      "Wall time: 1.42 s\n"
     ]
    }
   ],
   "source": [
    "%%time\n",
    "cnt = 0\n",
    "sm = 0\n",
    "for i in range(0, df.shape[0]):\n",
    "    sm += df.iloc[i][\"Conversion Rate\"]\n",
    "    cnt += 1\n",
    "\n",
    "sred = sm/cnt\n",
    "\n",
    "slov_high = {\"Facebook\": 0, \"Instagram\": 0, \"LinkedIn\": 0, \"TikTok\": 0, \"Twitter\": 0}\n",
    "slov_low = {\"Facebook\": 0, \"Instagram\": 0, \"LinkedIn\": 0, \"TikTok\": 0, \"Twitter\": 0}\n",
    "\n",
    "for i in range(0, df.shape[0]):\n",
    "    if df.iloc[i][\"Conversion Rate\"] > sred:\n",
    "        slov_high[df.iloc[i][\"Platform\"]] += 1\n",
    "    else:\n",
    "        slov_low[df.iloc[i][\"Platform\"]] += 1\n",
    "\n",
    "slov_frac = {\"Facebook\": 0, \"Instagram\": 0, \"LinkedIn\": 0, \"TikTok\": 0, \"Twitter\": 0}\n",
    "for i in slov_high.keys():\n",
    "    slov_frac[i] += (slov_high[i]/slov_low[i])\n",
    "\n",
    "maxi = max(slov_frac.values())\n",
    "mini = min(slov_frac.values())\n",
    "\n",
    "print(maxi - mini)\n",
    "\n",
    "for i in slov_frac.items():\n",
    "    if i[1] == maxi:\n",
    "        print(\"наибольшее у\", i[0], end = \" \")\n",
    "    if i[1] == mini:\n",
    "        print(\"наименьшее у\", i[0], end = \", \")\n",
    "    "
   ]
  },
  {
   "cell_type": "markdown",
   "metadata": {},
   "source": [
    "**А победителем является**: Pandas по CPU Time, Python по Wall time"
   ]
  },
  {
   "cell_type": "markdown",
   "metadata": {},
   "source": [
    "#### Задание 10\n",
    "\n",
    "Крайне серьезное задание. Отнеситесь к нему соответствующе. В ячейке ниже напишите ваш любимый анекдот или мем (только без баянов, окей?). Можно плохие. Помните, это задание на полный балл. Проверяющий работу ассистент должен улыбнуться.\n",
    "\n",
    "Если вставляете картинку, то убедитесь, что вы ее не подгружаете локально. А то будет неудобно - потерять балл на этом задании, когда надо было выложить картинку на облако и прокинуть ссылку. И нет, нельзя сюда просто ссылку вставить. Либо ищите, как вставить картинку, либо смешной анекдот. Есть всего два стула - выбирайте..."
   ]
  },
  {
   "cell_type": "markdown",
   "metadata": {},
   "source": [
    "# POV: Нервный я с поникшим пандасом смотрим, как мой код снова не работает (я написал его в Markdown)\n",
    "\n",
    "\n",
    "<a href=\"https://ibb.co/r2vwd5X4\"><img src=\"https://i.ibb.co/zVN46PtG/8351198b8b097de32b4ad3ce4c9c04ed.jpg\" alt=\"8351198b8b097de32b4ad3ce4c9c04ed\" border=\"0\"></a><br /><a target='_blank' href='https://ru.imgbb.com/'></a><br />\n"
   ]
  }
 ],
 "metadata": {
  "kernelspec": {
   "display_name": "Python 3 (ipykernel)",
   "language": "python",
   "name": "python3"
  },
  "language_info": {
   "codemirror_mode": {
    "name": "ipython",
    "version": 3
   },
   "file_extension": ".py",
   "mimetype": "text/x-python",
   "name": "python",
   "nbconvert_exporter": "python",
   "pygments_lexer": "ipython3",
   "version": "3.11.7"
  }
 },
 "nbformat": 4,
 "nbformat_minor": 4
}
